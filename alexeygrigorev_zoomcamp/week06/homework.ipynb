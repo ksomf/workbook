{
 "cells": [
  {
   "cell_type": "markdown",
   "metadata": {},
   "source": [
    "## 6.10 Homework\n",
    "\n",
    "The goal of this homework is to create a tree-based regression model for prediction apartment prices (column `'price'`).\n",
    "\n",
    "In this homework we'll again use the New York City Airbnb Open Data dataset - the same one we used in homework 2 and 3.\n",
    "\n",
    "You can take it from [Kaggle](https://www.kaggle.com/dgomonov/new-york-city-airbnb-open-data?select=AB_NYC_2019.csv)\n",
    "or download from [here](https://raw.githubusercontent.com/alexeygrigorev/datasets/master/AB_NYC_2019.csv)\n",
    "if you don't want to sign up to Kaggle.\n",
    "\n",
    "Let's load the data:"
   ]
  },
  {
   "cell_type": "code",
   "execution_count": 15,
   "metadata": {},
   "outputs": [],
   "source": [
    "import pandas as pd\n",
    "import numpy as np\n",
    "\n",
    "import matplotlib.pyplot as plt\n",
    "import seaborn as sns\n",
    "\n",
    "from sklearn.feature_extraction import DictVectorizer\n",
    "from sklearn.model_selection    import train_test_split\n",
    "from sklearn.metrics            import roc_auc_score\n",
    "from sklearn.tree               import DecisionTreeRegressor, export_text\n",
    "from sklearn.ensemble           import RandomForestRegressor\n",
    "\n",
    "import xgboost as xgb\n",
    "\n",
    "from itertools import groupby\n",
    "\n",
    "%matplotlib inline"
   ]
  },
  {
   "cell_type": "code",
   "execution_count": 3,
   "metadata": {},
   "outputs": [],
   "source": [
    "columns = [\n",
    "    'neighbourhood_group', 'room_type', 'latitude', 'longitude',\n",
    "    'minimum_nights', 'number_of_reviews','reviews_per_month',\n",
    "    'calculated_host_listings_count', 'availability_365',\n",
    "    'price'\n",
    "]\n",
    "\n",
    "train_columns = list(filter(lambda x: x != 'price',columns))\n",
    "df = pd.read_csv('AB_NYC_2019.csv', usecols=columns)\n",
    "df.reviews_per_month = df.reviews_per_month.fillna(0)"
   ]
  },
  {
   "cell_type": "markdown",
   "metadata": {},
   "source": [
    "* Apply the log tranform to `price`\n",
    "* Do train/validation/test split with 60%/20%/20% distribution. \n",
    "* Use the `train_test_split` function and set the `random_state` parameter to 1"
   ]
  },
  {
   "cell_type": "code",
   "execution_count": 4,
   "metadata": {},
   "outputs": [],
   "source": [
    "df.price = np.log1p(df.price)\n",
    "\n",
    "prop_val   = 0.2\n",
    "prop_test  = 0.2\n",
    "prop_train = 1.0 - prop_test - prop_val\n",
    "seed = 1\n",
    "\n",
    "df_full_train, df_test = train_test_split(df           , test_size=prop_test                          , random_state=seed)\n",
    "df_train, df_val       = train_test_split(df_full_train, test_size=prop_val / (prop_train + prop_test), random_state=seed)\n",
    "\n",
    "def setup_tensors(df):\n",
    "    df = df.reset_index(drop=True)\n",
    "    y  = df.price.values\n",
    "    del df['price']\n",
    "    return df, y\n",
    "\n",
    "df_full_train, y_full_train = setup_tensors(df_full_train)\n",
    "df_train     , y_train      = setup_tensors(df_train     )\n",
    "df_val       , y_val        = setup_tensors(df_val       )\n",
    "df_test      , y_test       = setup_tensors(df_test      )"
   ]
  },
  {
   "cell_type": "markdown",
   "metadata": {},
   "source": [
    "Now, use `DictVectorizer` to turn train and validation into matrices:"
   ]
  },
  {
   "cell_type": "code",
   "execution_count": 5,
   "metadata": {},
   "outputs": [
    {
     "data": {
      "text/plain": [
       "['availability_365',\n",
       " 'calculated_host_listings_count',\n",
       " 'latitude',\n",
       " 'longitude',\n",
       " 'minimum_nights',\n",
       " 'neighbourhood_group=Bronx',\n",
       " 'neighbourhood_group=Brooklyn',\n",
       " 'neighbourhood_group=Manhattan',\n",
       " 'neighbourhood_group=Queens',\n",
       " 'neighbourhood_group=Staten Island',\n",
       " 'number_of_reviews',\n",
       " 'reviews_per_month',\n",
       " 'room_type=Entire home/apt',\n",
       " 'room_type=Private room',\n",
       " 'room_type=Shared room']"
      ]
     },
     "execution_count": 5,
     "metadata": {},
     "output_type": "execute_result"
    }
   ],
   "source": [
    "dv = DictVectorizer(sparse=False)\n",
    "def transform_set(columns, df):\n",
    "    dicts = df[columns].to_dict(orient='records')\n",
    "    X     = dv.fit_transform(dicts)\n",
    "    return dicts, X\n",
    "\n",
    "dicts_train, X_train = transform_set(train_columns, df_train)\n",
    "dicts_val  , X_val   = transform_set(train_columns, df_val  )\n",
    "dv.get_feature_names()"
   ]
  },
  {
   "cell_type": "markdown",
   "metadata": {},
   "source": [
    "## Question 1\n",
    "\n",
    "Let's train a decision tree regressor to predict the price variable. \n",
    "\n",
    "* Train a model with `max_depth=1`"
   ]
  },
  {
   "cell_type": "code",
   "execution_count": 6,
   "metadata": {},
   "outputs": [
    {
     "name": "stdout",
     "output_type": "stream",
     "text": [
      "|--- room_type=Entire home/apt <= 0.50\n",
      "|   |--- value: [4.29]\n",
      "|--- room_type=Entire home/apt >  0.50\n",
      "|   |--- value: [5.15]\n",
      "\n"
     ]
    }
   ],
   "source": [
    "dtr = DecisionTreeRegressor(max_depth=1)\n",
    "dtr.fit(X_train, y_train)\n",
    "\n",
    "print(export_text(dtr, feature_names=dv.get_feature_names()))"
   ]
  },
  {
   "cell_type": "markdown",
   "metadata": {},
   "source": [
    "Which feature is used for splitting the data?\n",
    "\n",
    "* `room_type`\n",
    "* `neighbourhood_group`\n",
    "* `number_of_reviews`\n",
    "* `reviews_per_month`"
   ]
  },
  {
   "cell_type": "markdown",
   "metadata": {},
   "source": [
    "## Question 2\n",
    "\n",
    "Train a random forest model with these parameters:\n",
    "\n",
    "* `n_estimators=10`\n",
    "* `random_state=1`\n",
    "* `n_jobs=-1`  (optional - to make training faster)"
   ]
  },
  {
   "cell_type": "code",
   "execution_count": 6,
   "metadata": {},
   "outputs": [],
   "source": [
    "def perform_random_forest_regressor(X,y,n_estimators=10, max_depth=None, random_state=1, n_jobs=-1):\n",
    "    rfr = RandomForestRegressor(n_estimators=n_estimators, max_depth=max_depth, random_state=random_state, n_jobs=n_jobs)\n",
    "    rfr.fit(X, y)\n",
    "    return rfr\n",
    "\n",
    "def rmse(y, y_pred):\n",
    "    se = (y - y_pred) ** 2\n",
    "    mse = se.mean()\n",
    "    return np.sqrt(mse)\n",
    "\n",
    "def calc_random_forest_regressor_error(X,y,X_t,y_t,**kwargs):\n",
    "    rfr = perform_random_forest_regressor(X,y,**kwargs)\n",
    "    y_pred = rfr.predict(X_t)\n",
    "    return rmse(y_t,y_pred).round(3)"
   ]
  },
  {
   "cell_type": "code",
   "execution_count": 8,
   "metadata": {},
   "outputs": [
    {
     "data": {
      "text/plain": [
       "0.465"
      ]
     },
     "execution_count": 8,
     "metadata": {},
     "output_type": "execute_result"
    }
   ],
   "source": [
    "calc_random_forest_regressor_error(X_train,y_train,X_val,y_val)"
   ]
  },
  {
   "cell_type": "markdown",
   "metadata": {},
   "source": [
    "What's the RMSE of this model on validation?\n",
    "\n",
    "* 0.059\n",
    "* 0.259\n",
    "* 0.459\n",
    "* 0.659"
   ]
  },
  {
   "cell_type": "markdown",
   "metadata": {},
   "source": [
    "## Question 3\n",
    "\n",
    "Now let's experiment with the `n_estimators` parameter\n",
    "\n",
    "* Try different values of this parameter from 10 to 200 with step 10\n",
    "* Set `random_state` to `1`\n",
    "* Evaluate the model on the validation dataset"
   ]
  },
  {
   "cell_type": "code",
   "execution_count": 64,
   "metadata": {},
   "outputs": [
    {
     "name": "stdout",
     "output_type": "stream",
     "text": [
      "10 0.465\n",
      "20 0.453\n",
      "30 0.448\n",
      "40 0.446\n",
      "50 0.445\n",
      "60 0.444\n",
      "70 0.444\n",
      "80 0.443\n",
      "90 0.443\n",
      "100 0.442\n",
      "110 0.442\n",
      "120 0.442\n",
      "130 0.442\n",
      "140 0.442\n",
      "150 0.442\n",
      "160 0.442\n",
      "170 0.442\n",
      "180 0.442\n",
      "190 0.442\n",
      "200 0.441\n"
     ]
    }
   ],
   "source": [
    "for n_estimator in range(10,201,10):\n",
    "    error = calc_random_forest_regressor_error(X_train,y_train,X_val,y_val,n_estimators=n_estimator)\n",
    "    print(n_estimator,error)"
   ]
  },
  {
   "cell_type": "markdown",
   "metadata": {},
   "source": [
    "After which value of `n_estimators` does RMSE stop improving?\n",
    "\n",
    "- 10\n",
    "- 50\n",
    "- 70\n",
    "- 120"
   ]
  },
  {
   "cell_type": "markdown",
   "metadata": {},
   "source": [
    "## Question 4\n",
    "\n",
    "Let's select the best `max_depth`:\n",
    "\n",
    "* Try different values of `max_depth`: `[10, 15, 20, 25]`\n",
    "* For each of these values, try different values of `n_estimators` from 10 till 200 (with step 10)\n",
    "* Fix the random seed: `random_state=1`"
   ]
  },
  {
   "cell_type": "code",
   "execution_count": 74,
   "metadata": {},
   "outputs": [],
   "source": [
    "errors = []\n",
    "for max_depth in [10,15,20,25]:\n",
    "    for n_estimator in range(10,201,10):\n",
    "        error = calc_random_forest_regressor_error(X_train,y_train,X_val,y_val,n_estimators=n_estimator,max_depth=max_depth)\n",
    "        errors.append({'n_estimator':n_estimator,'max_depth':max_depth, 'rmse':error})\n",
    "df_errors = pd.DataFrame(errors)"
   ]
  },
  {
   "cell_type": "code",
   "execution_count": 75,
   "metadata": {},
   "outputs": [
    {
     "data": {
      "text/html": [
       "<div>\n",
       "<style scoped>\n",
       "    .dataframe tbody tr th:only-of-type {\n",
       "        vertical-align: middle;\n",
       "    }\n",
       "\n",
       "    .dataframe tbody tr th {\n",
       "        vertical-align: top;\n",
       "    }\n",
       "\n",
       "    .dataframe thead th {\n",
       "        text-align: right;\n",
       "    }\n",
       "</style>\n",
       "<table border=\"1\" class=\"dataframe\">\n",
       "  <thead>\n",
       "    <tr style=\"text-align: right;\">\n",
       "      <th></th>\n",
       "      <th>n_estimator</th>\n",
       "      <th>max_depth</th>\n",
       "      <th>rmse</th>\n",
       "    </tr>\n",
       "  </thead>\n",
       "  <tbody>\n",
       "    <tr>\n",
       "      <th>0</th>\n",
       "      <td>10</td>\n",
       "      <td>10</td>\n",
       "      <td>0.450</td>\n",
       "    </tr>\n",
       "    <tr>\n",
       "      <th>1</th>\n",
       "      <td>20</td>\n",
       "      <td>10</td>\n",
       "      <td>0.446</td>\n",
       "    </tr>\n",
       "    <tr>\n",
       "      <th>2</th>\n",
       "      <td>30</td>\n",
       "      <td>10</td>\n",
       "      <td>0.445</td>\n",
       "    </tr>\n",
       "    <tr>\n",
       "      <th>3</th>\n",
       "      <td>40</td>\n",
       "      <td>10</td>\n",
       "      <td>0.444</td>\n",
       "    </tr>\n",
       "    <tr>\n",
       "      <th>4</th>\n",
       "      <td>50</td>\n",
       "      <td>10</td>\n",
       "      <td>0.444</td>\n",
       "    </tr>\n",
       "  </tbody>\n",
       "</table>\n",
       "</div>"
      ],
      "text/plain": [
       "   n_estimator  max_depth   rmse\n",
       "0           10         10  0.450\n",
       "1           20         10  0.446\n",
       "2           30         10  0.445\n",
       "3           40         10  0.444\n",
       "4           50         10  0.444"
      ]
     },
     "execution_count": 75,
     "metadata": {},
     "output_type": "execute_result"
    }
   ],
   "source": [
    "df_errors.head()"
   ]
  },
  {
   "cell_type": "code",
   "execution_count": 76,
   "metadata": {},
   "outputs": [
    {
     "data": {
      "text/plain": [
       "<matplotlib.legend.Legend at 0x7fe32c703880>"
      ]
     },
     "execution_count": 76,
     "metadata": {},
     "output_type": "execute_result"
    },
    {
     "data": {
      "image/png": "[encoded data removed]",
      "text/plain": [
       "<Figure size 432x288 with 1 Axes>"
      ]
     },
     "metadata": {
      "needs_background": "light"
     },
     "output_type": "display_data"
    }
   ],
   "source": [
    "for max_depth in df_errors.max_depth.unique():\n",
    "    df_subset = df_errors[df_errors.max_depth == max_depth]\n",
    "    plt.plot( df_subset.n_estimator, df_subset.rmse, label='max_depth={}'.format(max_depth) )\n",
    "plt.legend()"
   ]
  },
  {
   "cell_type": "markdown",
   "metadata": {},
   "source": [
    "What's the best `max_depth`:\n",
    "\n",
    "* 10\n",
    "* 15\n",
    "* 20\n",
    "* 25\n",
    "\n",
    "Bonus question (not graded):\n",
    "\n",
    "Will the answer be different if we change the seed for the model?"
   ]
  },
  {
   "cell_type": "markdown",
   "metadata": {},
   "source": [
    "## Question 5\n",
    "\n",
    "We can extract feature importance information from tree-based models. \n",
    "\n",
    "At each step of the decision tree learning algorith, it finds the best split. \n",
    "When doint it, we can calculate \"gain\" - the reduction in impurity before and after the split. \n",
    "This gain is quite useful in understanding what are the imporatant features \n",
    "for tree-based models.\n",
    "\n",
    "In Scikit-Learn, tree-based models contain this information in the `feature_importances_` field. \n",
    "\n",
    "For this homework question, we'll find the most important feature:\n",
    "\n",
    "* Train the model with these parametes:\n",
    "    * `n_estimators=10`,\n",
    "    * `max_depth=20`,\n",
    "    * `random_state=1`,\n",
    "    * `n_jobs=-1` (optional)\n",
    "* Get the feature importance information from this model"
   ]
  },
  {
   "cell_type": "code",
   "execution_count": 9,
   "metadata": {},
   "outputs": [
    {
     "data": {
      "text/html": [
       "<div>\n",
       "<style scoped>\n",
       "    .dataframe tbody tr th:only-of-type {\n",
       "        vertical-align: middle;\n",
       "    }\n",
       "\n",
       "    .dataframe tbody tr th {\n",
       "        vertical-align: top;\n",
       "    }\n",
       "\n",
       "    .dataframe thead th {\n",
       "        text-align: right;\n",
       "    }\n",
       "</style>\n",
       "<table border=\"1\" class=\"dataframe\">\n",
       "  <thead>\n",
       "    <tr style=\"text-align: right;\">\n",
       "      <th></th>\n",
       "      <th>feature_name</th>\n",
       "      <th>importance</th>\n",
       "    </tr>\n",
       "  </thead>\n",
       "  <tbody>\n",
       "    <tr>\n",
       "      <th>12</th>\n",
       "      <td>room_type=Entire home/apt</td>\n",
       "      <td>0.386210</td>\n",
       "    </tr>\n",
       "    <tr>\n",
       "      <th>3</th>\n",
       "      <td>longitude</td>\n",
       "      <td>0.157206</td>\n",
       "    </tr>\n",
       "    <tr>\n",
       "      <th>2</th>\n",
       "      <td>latitude</td>\n",
       "      <td>0.149997</td>\n",
       "    </tr>\n",
       "    <tr>\n",
       "      <th>0</th>\n",
       "      <td>availability_365</td>\n",
       "      <td>0.080481</td>\n",
       "    </tr>\n",
       "    <tr>\n",
       "      <th>4</th>\n",
       "      <td>minimum_nights</td>\n",
       "      <td>0.053712</td>\n",
       "    </tr>\n",
       "    <tr>\n",
       "      <th>11</th>\n",
       "      <td>reviews_per_month</td>\n",
       "      <td>0.050396</td>\n",
       "    </tr>\n",
       "    <tr>\n",
       "      <th>10</th>\n",
       "      <td>number_of_reviews</td>\n",
       "      <td>0.044247</td>\n",
       "    </tr>\n",
       "    <tr>\n",
       "      <th>7</th>\n",
       "      <td>neighbourhood_group=Manhattan</td>\n",
       "      <td>0.034413</td>\n",
       "    </tr>\n",
       "    <tr>\n",
       "      <th>1</th>\n",
       "      <td>calculated_host_listings_count</td>\n",
       "      <td>0.030849</td>\n",
       "    </tr>\n",
       "    <tr>\n",
       "      <th>14</th>\n",
       "      <td>room_type=Shared room</td>\n",
       "      <td>0.004901</td>\n",
       "    </tr>\n",
       "    <tr>\n",
       "      <th>13</th>\n",
       "      <td>room_type=Private room</td>\n",
       "      <td>0.004780</td>\n",
       "    </tr>\n",
       "    <tr>\n",
       "      <th>8</th>\n",
       "      <td>neighbourhood_group=Queens</td>\n",
       "      <td>0.001268</td>\n",
       "    </tr>\n",
       "    <tr>\n",
       "      <th>6</th>\n",
       "      <td>neighbourhood_group=Brooklyn</td>\n",
       "      <td>0.001066</td>\n",
       "    </tr>\n",
       "    <tr>\n",
       "      <th>5</th>\n",
       "      <td>neighbourhood_group=Bronx</td>\n",
       "      <td>0.000243</td>\n",
       "    </tr>\n",
       "    <tr>\n",
       "      <th>9</th>\n",
       "      <td>neighbourhood_group=Staten Island</td>\n",
       "      <td>0.000231</td>\n",
       "    </tr>\n",
       "  </tbody>\n",
       "</table>\n",
       "</div>"
      ],
      "text/plain": [
       "                         feature_name  importance\n",
       "12          room_type=Entire home/apt    0.386210\n",
       "3                           longitude    0.157206\n",
       "2                            latitude    0.149997\n",
       "0                    availability_365    0.080481\n",
       "4                      minimum_nights    0.053712\n",
       "11                  reviews_per_month    0.050396\n",
       "10                  number_of_reviews    0.044247\n",
       "7       neighbourhood_group=Manhattan    0.034413\n",
       "1      calculated_host_listings_count    0.030849\n",
       "14              room_type=Shared room    0.004901\n",
       "13             room_type=Private room    0.004780\n",
       "8          neighbourhood_group=Queens    0.001268\n",
       "6        neighbourhood_group=Brooklyn    0.001066\n",
       "5           neighbourhood_group=Bronx    0.000243\n",
       "9   neighbourhood_group=Staten Island    0.000231"
      ]
     },
     "execution_count": 9,
     "metadata": {},
     "output_type": "execute_result"
    }
   ],
   "source": [
    "rfr = perform_random_forest_regressor(X_train,y_train,n_estimators=10,max_depth=20)\n",
    "importance = pd.DataFrame(list(zip(dv.get_feature_names(),rfr.feature_importances_)),columns=['feature_name','importance'])\n",
    "importance.sort_values('importance',ascending=False)"
   ]
  },
  {
   "cell_type": "markdown",
   "metadata": {},
   "source": [
    "What's the most important feature? \n",
    "\n",
    "* `neighbourhood_group=Manhattan`\n",
    "* `room_type=Entire home/apt`\t\n",
    "* `longitude`\n",
    "* `latitude`"
   ]
  },
  {
   "cell_type": "markdown",
   "metadata": {},
   "source": [
    "## Question 6"
   ]
  },
  {
   "cell_type": "markdown",
   "metadata": {},
   "source": [
    "Now let's train an XGBoost model! For this question, we'll tune the `eta` parameter\n",
    "\n",
    "* Install XGBoost\n",
    "* Create DMatrix for train and validation\n",
    "* Create a watchlist\n",
    "* Train a model with these parameters for 100 rounds:\n",
    "\n",
    "```\n",
    "xgb_params = {\n",
    "    'eta': 0.3, \n",
    "    'max_depth': 6,\n",
    "    'min_child_weight': 1,\n",
    "    \n",
    "    'objective': 'reg:squarederror',\n",
    "    'nthread': 8,\n",
    "    \n",
    "    'seed': 1,\n",
    "    'verbosity': 1,\n",
    "}\n",
    "```"
   ]
  },
  {
   "cell_type": "code",
   "execution_count": 6,
   "metadata": {},
   "outputs": [
    {
     "data": {
      "text/plain": [
       "['availability_365',\n",
       " 'calculated_host_listings_count',\n",
       " 'latitude',\n",
       " 'longitude',\n",
       " 'minimum_nights',\n",
       " 'neighbourhood_group=Bronx',\n",
       " 'neighbourhood_group=Brooklyn',\n",
       " 'neighbourhood_group=Manhattan',\n",
       " 'neighbourhood_group=Queens',\n",
       " 'neighbourhood_group=Staten Island',\n",
       " 'number_of_reviews',\n",
       " 'reviews_per_month',\n",
       " 'room_type=Entire home/apt',\n",
       " 'room_type=Private room',\n",
       " 'room_type=Shared room']"
      ]
     },
     "execution_count": 6,
     "metadata": {},
     "output_type": "execute_result"
    }
   ],
   "source": [
    "features = dv.get_feature_names()\n",
    "features"
   ]
  },
  {
   "cell_type": "code",
   "execution_count": 7,
   "metadata": {},
   "outputs": [],
   "source": [
    "dtrain   = xgb.DMatrix(X_train, label=y_train, feature_names=features)\n",
    "dval     = xgb.DMatrix(X_val  , label=y_val  , feature_names=features)\n",
    "\n",
    "watchlist = [(dtrain, 'train'), (dval, 'val')]\n",
    "\n",
    "xgb_params = { 'max_depth':6, 'min_child_weight':1, 'objective':'reg:squarederror', 'nthread':2, 'seed':1, 'verbosity':1 }\n",
    "xgb_params"
   ]
  },
  {
   "cell_type": "code",
   "execution_count": 9,
   "metadata": {},
   "outputs": [],
   "source": [
    "def train_xgb(eta):\n",
    "    xgb_params['eta'] = eta\n",
    "    model = xgb.train(xgb_params, dtrain, num_boost_round=100,verbose_eval=5,evals=watchlist)"
   ]
  },
  {
   "cell_type": "markdown",
   "metadata": {},
   "source": [
    "Now change `eta` first to `0.1` and then to `0.01`"
   ]
  },
  {
   "cell_type": "code",
   "execution_count": 10,
   "metadata": {},
   "outputs": [],
   "source": [
    "%%capture output\n",
    "\n",
    "for eta in [0.3,0.1,0.01]:\n",
    "    print('eta:{}'.format(eta))\n",
    "    train_xgb(eta)"
   ]
  },
  {
   "cell_type": "code",
   "execution_count": 28,
   "metadata": {},
   "outputs": [
    {
     "data": {
      "text/plain": [
       "'eta:0.3\\n[0]\\ttrain-rmse:3.02751\\tval-rmse:3.02415\\n[5]\\ttrain-rmse:0.67490\\tval-rmse:0.67752\\n[10]\\ttrain-rmse:0.43912\\tval-rmse:0.44981\\n[15]\\ttrain-rmse:0.42259\\tval-rmse:0.43827\\n[20]\\ttrain-rmse:0.41716\\tval-rmse:0.43691\\n[25]\\ttrain-rmse:0.41365\\tval-rmse:0.43621\\n[30]\\ttrain-rmse:0.40712\\tval-rmse:0.43543\\n[35]\\ttrain-rmse:0.40444\\tval-rmse:0.43510\\n[40]\\ttrain-rmse:0.40103\\tval-rmse:0.43466\\n[45]\\ttrain-rmse:0.39723\\tval-rmse:0.43371\\n[50]\\ttrain-rmse:0.39446\\tval-rmse:0.43384\\n[55]\\ttrain-rmse:0.39129\\tval-rmse:0.43378\\n[60]\\ttrain-rmse:0.38743\\tval-rmse:0.43404\\n[65]\\ttrain-rmse:0.38421\\tval-rmse:0.43450\\n[70]\\ttrain-rmse:0.38117\\tval-rmse:0.43467\\n[75]\\ttrain-rmse:0.37801\\tval-rmse:0.43489\\n[80]\\ttrain-rmse:0.37668\\tval-rmse:0.43526\\n[85]\\ttrain-rmse:0.37259\\tval-rmse:0.43537\\n[90]\\ttrain-rmse:0.36998\\tval-rmse:0.43539\\n[95]\\ttrain-rmse:0.36742\\tval-rmse:0.43579\\n[99]\\ttrain-rmse:0.36478\\tval-rmse:0.43621\\neta:0.1\\n[0]\\ttrain-rmse:3.87216\\tval-rmse:3.86890\\n[5]\\ttrain-rmse:2.31905\\tval-rmse:2.31692\\n[10]\\ttrain-rmse:1.41910\\tval-rmse:1.41786\\n[15]\\ttrain-rmse:0.91299\\tval-rmse:0.91348\\n[20]\\ttrain-rmse:0.64528\\tval-rmse:0.64883\\n[25]\\ttrain-rmse:0.51733\\tval-rmse:0.52364\\n[30]\\ttrain-rmse:0.46186\\tval-rmse:0.47101\\n[35]\\ttrain-rmse:0.43843\\tval-rmse:0.44997\\n[40]\\ttrain-rmse:0.42770\\tval-rmse:0.44150\\n[45]\\ttrain-rmse:0.42222\\tval-rmse:0.43795\\n[50]\\ttrain-rmse:0.41868\\tval-rmse:0.43589\\n[55]\\ttrain-rmse:0.41644\\tval-rmse:0.43515\\n[60]\\ttrain-rmse:0.41432\\tval-rmse:0.43460\\n[65]\\ttrain-rmse:0.41226\\tval-rmse:0.43400\\n[70]\\ttrain-rmse:0.41059\\tval-rmse:0.43361\\n[75]\\ttrain-rmse:0.40876\\tval-rmse:0.43336\\n[80]\\ttrain-rmse:0.40747\\tval-rmse:0.43306\\n[85]\\ttrain-rmse:0.40626\\tval-rmse:0.43299\\n[90]\\ttrain-rmse:0.40478\\tval-rmse:0.43280\\n[95]\\ttrain-rmse:0.40406\\tval-rmse:0.43272\\n[99]\\ttrain-rmse:0.40277\\tval-rmse:0.43250\\neta:0.01\\n[0]\\ttrain-rmse:4.25336\\tval-rmse:4.25010\\n[5]\\ttrain-rmse:4.04779\\tval-rmse:4.04453\\n[10]\\ttrain-rmse:3.85242\\tval-rmse:3.84921\\n[15]\\ttrain-rmse:3.66673\\tval-rmse:3.66359\\n[20]\\ttrain-rmse:3.49031\\tval-rmse:3.48718\\n[25]\\ttrain-rmse:3.32263\\tval-rmse:3.31956\\n[30]\\ttrain-rmse:3.16332\\tval-rmse:3.16029\\n[35]\\ttrain-rmse:3.01196\\tval-rmse:3.00898\\n[40]\\ttrain-rmse:2.86817\\tval-rmse:2.86533\\n[45]\\ttrain-rmse:2.73158\\tval-rmse:2.72884\\n[50]\\ttrain-rmse:2.60186\\tval-rmse:2.59925\\n[55]\\ttrain-rmse:2.47866\\tval-rmse:2.47612\\n[60]\\ttrain-rmse:2.36167\\tval-rmse:2.35927\\n[65]\\ttrain-rmse:2.25061\\tval-rmse:2.24835\\n[70]\\ttrain-rmse:2.14519\\tval-rmse:2.14303\\n[75]\\ttrain-rmse:2.04515\\tval-rmse:2.04311\\n[80]\\ttrain-rmse:1.95022\\tval-rmse:1.94827\\n[85]\\ttrain-rmse:1.86015\\tval-rmse:1.85833\\n[90]\\ttrain-rmse:1.77472\\tval-rmse:1.77302\\n[95]\\ttrain-rmse:1.69373\\tval-rmse:1.69214\\n[99]\\ttrain-rmse:1.63198\\tval-rmse:1.63045\\n'"
      ]
     },
     "execution_count": 28,
     "metadata": {},
     "output_type": "execute_result"
    }
   ],
   "source": [
    "s = output.stdout"
   ]
  },
  {
   "cell_type": "code",
   "execution_count": 44,
   "metadata": {},
   "outputs": [],
   "source": [
    "def eta_iterator(s):\n",
    "    lines = filter(lambda x: len(x),s.split('\\n'))\n",
    "    output_iter = (x[1] for x in groupby(lines, lambda line: line.startswith('eta')))\n",
    "    for eta_header in output_iter:\n",
    "        eta = float(eta_header.__next__().strip('eta:'))\n",
    "        def _extract_line(line):\n",
    "            it, train_rmse, val_rmse = line.split('\\t')\n",
    "            return { 'eta':eta\n",
    "                   , 'it':it.strip('[]')\n",
    "                   , 'train_rmse':float(train_rmse.split(':')[1])\n",
    "                   , 'val_rmse':float(val_rmse.split(':')[1]) }\n",
    "        yield( pd.DataFrame([ _extract_line(a) for a in output_iter.__next__()]) )\n",
    "df_xgb = pd.concat(eta_iterator(s))"
   ]
  },
  {
   "cell_type": "code",
   "execution_count": 46,
   "metadata": {},
   "outputs": [
    {
     "data": {
      "text/plain": [
       "<matplotlib.legend.Legend at 0x7ff09a2789d0>"
      ]
     },
     "execution_count": 46,
     "metadata": {},
     "output_type": "execute_result"
    },
    {
     "data": {
      "image/png": "[encoded data removed]",
      "text/plain": [
       "<Figure size 432x288 with 1 Axes>"
      ]
     },
     "metadata": {
      "needs_background": "light"
     },
     "output_type": "display_data"
    }
   ],
   "source": [
    "for eta in df_xgb.eta.unique():\n",
    "    df_subset = df_xgb[df_xgb.eta == eta]\n",
    "    plt.plot(df_subset.it,df_subset.val_rmse,label='eta={}'.format(eta))\n",
    "plt.legend()"
   ]
  },
  {
   "cell_type": "markdown",
   "metadata": {},
   "source": [
    "Which eta leads to the best RMSE score on the validation dataset?\n",
    "\n",
    "* 0.3\n",
    "* 0.1\n",
    "* 0.01"
   ]
  },
  {
   "cell_type": "markdown",
   "metadata": {},
   "source": [
    "## Submit the results\n",
    "\n",
    "\n",
    "Submit your results here: https://forms.gle/wQgFkYE6CtdDed4w8\n",
    "\n",
    "It's possible that your answers won't match exactly. If it's the case, select the closest one.\n",
    "\n",
    "\n",
    "## Deadline\n",
    "\n",
    "\n",
    "The deadline for submitting is 20 October 2021, 17:00 CET (Wednesday). After that, the form will be closed.\n",
    "\n"
   ]
  },
  {
   "cell_type": "markdown",
   "metadata": {},
   "source": [
    "# MacOSX XGBoost install and hang workaround\n",
    "When you run `pip install xgboost` or when you try to `import xgboost` in a script you might get an warning or error stating that libomp has not been installed and to run `brew install libomp` in the terminal. However this install a version of libomp that does not work with `xgboost`!\n",
    "\n",
    "This shows in one of two ways after attempting to run `xgb.DMatrix(X_train, label=y_train, feature_names=features)`:\n",
    "\n",
    "- **python script:** Segmentation fault: 11\n",
    "- **jupyter notebook:** Never finished running, and notebook is unresponsive until kernal restart. However confusingly I have had it sometimes work\n",
    "\n",
    "The versions of libomp with this problem are 12.x.x and 13.x.x, however issue has a workaround [xgboost issue #7039](https://github.com/dmlc/xgboost/issues/7039) installing the older libomp 11 using the terminal. In the terminal use: \n",
    "```brew list --version libomp```\n",
    "to determine the current version of libomp if any. Then if you have a problematic version run `brew unlink libomp`.\n",
    "Now to install the old version of libomp run:\n",
    "```\n",
    "brew update\n",
    "wget https://raw.githubusercontent.com/chenrui333/homebrew-core/0094d1513ce9e2e85e07443b8b5930ad298aad91/Formula/libomp.rb\n",
    "brew install --build-from-source ./libomp.rb\n",
    "```\n",
    "and then run \n",
    "```brew list --version libomp```\n",
    "to check that everything worked, it should now state `libomp 11.1.0`, and your code should now be able to run."
   ]
  },
  {
   "cell_type": "code",
   "execution_count": null,
   "metadata": {},
   "outputs": [],
   "source": []
  }
 ],
 "metadata": {
  "kernelspec": {
   "display_name": "Python 3 (ipykernel)",
   "language": "python",
   "name": "python3"
  },
  "language_info": {
   "codemirror_mode": {
    "name": "ipython",
    "version": 3
   },
   "file_extension": ".py",
   "mimetype": "text/x-python",
   "name": "python",
   "nbconvert_exporter": "python",
   "pygments_lexer": "ipython3",
   "version": "3.8.11"
  }
 },
 "nbformat": 4,
 "nbformat_minor": 2
}
