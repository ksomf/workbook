{
 "cells": [
  {
   "cell_type": "code",
   "execution_count": 7,
   "id": "0ac30cb0",
   "metadata": {},
   "outputs": [],
   "source": [
    "import pandas as pd\n",
    "import numpy as np\n",
    "\n",
    "import matplotlib.pyplot as plt\n",
    "import seaborn as sns\n",
    "\n",
    "%matplotlib inline"
   ]
  },
  {
   "cell_type": "code",
   "execution_count": 8,
   "id": "d5e10215",
   "metadata": {},
   "outputs": [
    {
     "name": "stdout",
     "output_type": "stream",
     "text": [
      "--2021-09-19 19:23:57--  https://raw.githubusercontent.com/alexeygrigorev/datasets/master/AB_NYC_2019.csv\n",
      "Resolving raw.githubusercontent.com (raw.githubusercontent.com)... 185.199.111.133, 185.199.108.133, 185.199.109.133, ...\n",
      "Connecting to raw.githubusercontent.com (raw.githubusercontent.com)|185.199.111.133|:443... connected.\n",
      "HTTP request sent, awaiting response... 200 OK\n",
      "Length: 7077973 (6.8M) [text/plain]\n",
      "Saving to: ‘AB_NYC_2019.csv.1’\n",
      "\n",
      "AB_NYC_2019.csv.1   100%[===================>]   6.75M  12.1MB/s    in 0.6s    \n",
      "\n",
      "2021-09-19 19:23:58 (12.1 MB/s) - ‘AB_NYC_2019.csv.1’ saved [7077973/7077973]\n",
      "\n"
     ]
    }
   ],
   "source": [
    "data = 'https://raw.githubusercontent.com/alexeygrigorev/datasets/master/AB_NYC_2019.csv'\n",
    "!wget $data"
   ]
  },
  {
   "cell_type": "code",
   "execution_count": null,
   "id": "ff9c2f2d",
   "metadata": {},
   "outputs": [],
   "source": [
    "df = pd.read_csv('data.csv')"
   ]
  },
  {
   "cell_type": "markdown",
   "id": "2b23547d",
   "metadata": {},
   "source": [
    "## Examine price"
   ]
  },
  {
   "cell_type": "code",
   "execution_count": 15,
   "id": "7a3ea5ad",
   "metadata": {},
   "outputs": [
    {
     "data": {
      "text/plain": [
       "<AxesSubplot:xlabel='price', ylabel='Count'>"
      ]
     },
     "execution_count": 15,
     "metadata": {},
     "output_type": "execute_result"
    },
    {
     "data": {
      "image/png": "[encoded data removed]",
      "text/plain": [
       "<Figure size 432x288 with 1 Axes>"
      ]
     },
     "metadata": {
      "needs_background": "light"
     },
     "output_type": "display_data"
    }
   ],
   "source": [
    "sns.histplot(df.price, bins=100)"
   ]
  },
  {
   "cell_type": "code",
   "execution_count": 12,
   "id": "981fae4b",
   "metadata": {},
   "outputs": [
    {
     "data": {
      "text/plain": [
       "<AxesSubplot:xlabel='price', ylabel='Count'>"
      ]
     },
     "execution_count": 12,
     "metadata": {},
     "output_type": "execute_result"
    },
    {
     "data": {
      "image/png": "[encoded data removed]",
      "text/plain": [
       "<Figure size 432x288 with 1 Axes>"
      ]
     },
     "metadata": {
      "needs_background": "light"
     },
     "output_type": "display_data"
    }
   ],
   "source": [
    "sns.histplot(np.log1p(df.price), bins=50)"
   ]
  },
  {
   "cell_type": "markdown",
   "id": "b080b77d",
   "metadata": {},
   "source": [
    "# Data Wrangling"
   ]
  },
  {
   "cell_type": "code",
   "execution_count": 18,
   "id": "ab658efb",
   "metadata": {},
   "outputs": [
    {
     "data": {
      "text/html": [
       "<div>\n",
       "<style scoped>\n",
       "    .dataframe tbody tr th:only-of-type {\n",
       "        vertical-align: middle;\n",
       "    }\n",
       "\n",
       "    .dataframe tbody tr th {\n",
       "        vertical-align: top;\n",
       "    }\n",
       "\n",
       "    .dataframe thead th {\n",
       "        text-align: right;\n",
       "    }\n",
       "</style>\n",
       "<table border=\"1\" class=\"dataframe\">\n",
       "  <thead>\n",
       "    <tr style=\"text-align: right;\">\n",
       "      <th></th>\n",
       "      <th>latitude</th>\n",
       "      <th>longitude</th>\n",
       "      <th>price</th>\n",
       "      <th>minimum_nights</th>\n",
       "      <th>number_of_reviews</th>\n",
       "      <th>reviews_per_month</th>\n",
       "      <th>calculated_host_listings_count</th>\n",
       "      <th>availability_365</th>\n",
       "    </tr>\n",
       "  </thead>\n",
       "  <tbody>\n",
       "    <tr>\n",
       "      <th>0</th>\n",
       "      <td>40.64749</td>\n",
       "      <td>-73.97237</td>\n",
       "      <td>149</td>\n",
       "      <td>1</td>\n",
       "      <td>9</td>\n",
       "      <td>0.21</td>\n",
       "      <td>6</td>\n",
       "      <td>365</td>\n",
       "    </tr>\n",
       "    <tr>\n",
       "      <th>1</th>\n",
       "      <td>40.75362</td>\n",
       "      <td>-73.98377</td>\n",
       "      <td>225</td>\n",
       "      <td>1</td>\n",
       "      <td>45</td>\n",
       "      <td>0.38</td>\n",
       "      <td>2</td>\n",
       "      <td>355</td>\n",
       "    </tr>\n",
       "    <tr>\n",
       "      <th>2</th>\n",
       "      <td>40.80902</td>\n",
       "      <td>-73.94190</td>\n",
       "      <td>150</td>\n",
       "      <td>3</td>\n",
       "      <td>0</td>\n",
       "      <td>NaN</td>\n",
       "      <td>1</td>\n",
       "      <td>365</td>\n",
       "    </tr>\n",
       "    <tr>\n",
       "      <th>3</th>\n",
       "      <td>40.68514</td>\n",
       "      <td>-73.95976</td>\n",
       "      <td>89</td>\n",
       "      <td>1</td>\n",
       "      <td>270</td>\n",
       "      <td>4.64</td>\n",
       "      <td>1</td>\n",
       "      <td>194</td>\n",
       "    </tr>\n",
       "    <tr>\n",
       "      <th>4</th>\n",
       "      <td>40.79851</td>\n",
       "      <td>-73.94399</td>\n",
       "      <td>80</td>\n",
       "      <td>10</td>\n",
       "      <td>9</td>\n",
       "      <td>0.10</td>\n",
       "      <td>1</td>\n",
       "      <td>0</td>\n",
       "    </tr>\n",
       "  </tbody>\n",
       "</table>\n",
       "</div>"
      ],
      "text/plain": [
       "   latitude  longitude  price  minimum_nights  number_of_reviews  \\\n",
       "0  40.64749  -73.97237    149               1                  9   \n",
       "1  40.75362  -73.98377    225               1                 45   \n",
       "2  40.80902  -73.94190    150               3                  0   \n",
       "3  40.68514  -73.95976     89               1                270   \n",
       "4  40.79851  -73.94399     80              10                  9   \n",
       "\n",
       "   reviews_per_month  calculated_host_listings_count  availability_365  \n",
       "0               0.21                               6               365  \n",
       "1               0.38                               2               355  \n",
       "2                NaN                               1               365  \n",
       "3               4.64                               1               194  \n",
       "4               0.10                               1                 0  "
      ]
     },
     "execution_count": 18,
     "metadata": {},
     "output_type": "execute_result"
    }
   ],
   "source": [
    "columns_of_interest = [ 'latitude'\n",
    "                      , 'longitude'\n",
    "                      , 'price'\n",
    "                      , 'minimum_nights'\n",
    "                      , 'number_of_reviews'\n",
    "                      , 'reviews_per_month'\n",
    "                      , 'calculated_host_listings_count'\n",
    "                      ,'availability_365']\n",
    "df = df[columns_of_interest]\n",
    "df.head()"
   ]
  },
  {
   "cell_type": "markdown",
   "id": "a9e905c3",
   "metadata": {},
   "source": [
    "## Q1: Missing Values"
   ]
  },
  {
   "cell_type": "code",
   "execution_count": 17,
   "id": "2bdbaa8c",
   "metadata": {},
   "outputs": [
    {
     "data": {
      "text/plain": [
       "latitude                              0\n",
       "longitude                             0\n",
       "price                                 0\n",
       "minimum_nights                        0\n",
       "number_of_reviews                     0\n",
       "reviews_per_month                 10052\n",
       "calculated_host_listings_count        0\n",
       "availability_365                      0\n",
       "dtype: int64"
      ]
     },
     "execution_count": 17,
     "metadata": {},
     "output_type": "execute_result"
    }
   ],
   "source": [
    "df.isnull().sum()"
   ]
  },
  {
   "cell_type": "markdown",
   "id": "41c8142b",
   "metadata": {},
   "source": [
    "## Q2: Median minimum_nights"
   ]
  },
  {
   "cell_type": "code",
   "execution_count": 23,
   "id": "0d84f5e7",
   "metadata": {},
   "outputs": [
    {
     "data": {
      "text/plain": [
       "3.0"
      ]
     },
     "execution_count": 23,
     "metadata": {},
     "output_type": "execute_result"
    }
   ],
   "source": [
    "df.minimum_nights.median()"
   ]
  },
  {
   "cell_type": "markdown",
   "id": "91789827",
   "metadata": {},
   "source": [
    "## Split data"
   ]
  },
  {
   "cell_type": "code",
   "execution_count": 28,
   "id": "84a35abe",
   "metadata": {},
   "outputs": [],
   "source": [
    "n = len(df)\n",
    "n_val = int(n * 0.2)\n",
    "n_test = int(n * 0.2)\n",
    "n_train = n - n_val - n_test\n",
    "\n",
    "idx = np.arange(n)\n",
    "\n",
    "np.random.seed(42)\n",
    "np.random.shuffle(idx)\n",
    "\n",
    "df_train      = df.iloc[idx[:n_train]]              .reset_index(drop=True)\n",
    "df_test       = df.iloc[idx[n_train:n_train+n_test]].reset_index(drop=True)\n",
    "df_val        = df.iloc[idx[n_train+n_test:]]       .reset_index(drop=True)\n",
    "df_train_full = df.iloc[idx[:n_train+n_test]]       .reset_index(drop=True)\n",
    "\n",
    "y_train      = np.log1p(df_train.price)\n",
    "y_test       = np.log1p(df_test.price)\n",
    "y_val        = np.log1p(df_val.price)\n",
    "y_train_full = np.log1p(df_train_full.price)\n",
    "\n",
    "del df_train     ['price']\n",
    "del df_test      ['price']\n",
    "del df_val       ['price']\n",
    "del df_train_full['price']"
   ]
  },
  {
   "cell_type": "markdown",
   "id": "ae8e2798",
   "metadata": {},
   "source": [
    "## TRAINING FUNCTION"
   ]
  },
  {
   "cell_type": "code",
   "execution_count": 60,
   "id": "62073b11",
   "metadata": {},
   "outputs": [
    {
     "name": "stdout",
     "output_type": "stream",
     "text": [
      "reviews_per_month na -> 0   : 0.65\n",
      "reviews_per_month na -> mean: 0.65\n"
     ]
    }
   ],
   "source": [
    "def prepare_X_zero(df):\n",
    "    df = df.copy()\n",
    "    df['reviews_per_month'] = df.reviews_per_month.fillna(0)\n",
    "    X = df.values\n",
    "    return X\n",
    "\n",
    "def prepare_X_mean(df):\n",
    "    df = df.copy()\n",
    "    df['reviews_per_month'] = df.reviews_per_month.fillna(df.reviews_per_month.mean())\n",
    "    X = df.values\n",
    "    return X\n",
    "\n",
    "def train_linear_regression_reg(X, y, r=0.001):\n",
    "    X = np.column_stack([np.ones(X.shape[0]), X])\n",
    "    XTX = X.T.dot(X)\n",
    "    XTX = XTX + r * np.eye(XTX.shape[0])\n",
    "    XTX_inv = np.linalg.inv(XTX)\n",
    "    \n",
    "    w_full = XTX_inv.dot(X.T).dot(y)\n",
    "    \n",
    "    return w_full[0], w_full[1:]\n",
    "\n",
    "def rmse(y, y_pred):\n",
    "    se = (y - y_pred) ** 2\n",
    "    mse = se.mean()\n",
    "    return np.sqrt(mse)\n",
    "\n",
    "X_train_zero = prepare_X_zero(df_train)\n",
    "X_val_zero   = prepare_X_zero(df_val)\n",
    "X_train_mean = prepare_X_mean(df_train)\n",
    "X_val_mean   = prepare_X_mean(df_val)\n",
    "\n",
    "w0_zero, w_zero = train_linear_regression_reg(X_train_zero,y_train,r=0)\n",
    "w0_mean, w_mean = train_linear_regression_reg(X_train_mean,y_train,r=0)\n",
    "\n",
    "y_pred_zero = w0_zero + X_val_zero.dot(w_zero)\n",
    "y_pred_mean = w0_mean + X_val_zero.dot(w_mean)\n",
    "\n",
    "print('reviews_per_month na -> 0   : {}'.format(round(rmse(y_val,y_pred_zero),2)))\n",
    "print('reviews_per_month na -> mean: {}'.format(round(rmse(y_val,y_pred_mean),2)))"
   ]
  },
  {
   "cell_type": "markdown",
   "id": "39feb411",
   "metadata": {},
   "source": [
    "Neither is better to this accuracy, thechnically 0 is slightly better. But for the next question we use 0."
   ]
  },
  {
   "cell_type": "markdown",
   "id": "618ce1f2",
   "metadata": {},
   "source": [
    "## Q4: What regularisation to use"
   ]
  },
  {
   "cell_type": "code",
   "execution_count": 85,
   "id": "958de1a6",
   "metadata": {},
   "outputs": [
    {
     "name": "stdout",
     "output_type": "stream",
     "text": [
      "         0:0.6536337649996121 (0.65)\n",
      "     1e-06:0.6536338933922969 (0.65)\n",
      "    0.0001:0.653651793240982 (0.65)\n",
      "     0.001:0.6541885180213967 (0.65)\n",
      "      0.01:0.6656175809489505 (0.67)\n",
      "       0.1:0.6869575817254718 (0.69)\n",
      "         1:0.6919185299146808 (0.69)\n",
      "         5:0.6923850940178745 (0.69)\n",
      "        10:0.6924224370107044 (0.69)\n"
     ]
    }
   ],
   "source": [
    "prepare_X = prepare_X_zero\n",
    "X_train = prepare_X(df_train)\n",
    "X_val   = prepare_X(df_val)\n",
    "\n",
    "res = []\n",
    "for r in [0, 0.000001, 0.0001, 0.001, 0.01, 0.1, 1, 5, 10]:\n",
    "    w0, w = train_linear_regression_reg(X_train,y_train,r=r)\n",
    "    y_pred = w0 + X_val.dot(w)\n",
    "    error = rmse(y_val,y_pred)\n",
    "    print('{:10}:{} ({})'.format(r,error,round(error,2)))"
   ]
  },
  {
   "cell_type": "markdown",
   "id": "8403561c",
   "metadata": {},
   "source": [
    "smallest error when r=0"
   ]
  },
  {
   "cell_type": "code",
   "execution_count": 70,
   "id": "d407a0c5",
   "metadata": {},
   "outputs": [],
   "source": [
    "r = 0"
   ]
  },
  {
   "cell_type": "markdown",
   "id": "f0e0b89f",
   "metadata": {},
   "source": [
    "## Q5 What effect does seed have"
   ]
  },
  {
   "cell_type": "code",
   "execution_count": 81,
   "id": "9f3a0b67",
   "metadata": {},
   "outputs": [
    {
     "name": "stdout",
     "output_type": "stream",
     "text": [
      "[0.6304569982323267, 0.6486723821210312, 0.6409503261201178, 0.6396698468034724, 0.6555733448818004, 0.6391858794518651, 0.6473543640304936, 0.655889218349002, 0.6405135568815358, 0.6450366766956963]\n",
      "0.007450888539027653\n",
      "0.007\n"
     ]
    }
   ],
   "source": [
    "def split_by_seed(seed):\n",
    "    idx = np.arange(n)\n",
    "\n",
    "    np.random.seed(seed)\n",
    "    np.random.shuffle(idx)\n",
    "\n",
    "    df_train      = df.iloc[idx[:n_train]]              .reset_index(drop=True)\n",
    "    df_test       = df.iloc[idx[n_train:n_train+n_test]].reset_index(drop=True)\n",
    "    df_val        = df.iloc[idx[n_train+n_test:]]       .reset_index(drop=True)\n",
    "    df_train_full = df.iloc[idx[:n_train+n_test]]       .reset_index(drop=True)\n",
    "\n",
    "    y_train      = np.log1p(df_train.price)\n",
    "    y_test       = np.log1p(df_test.price)\n",
    "    y_val        = np.log1p(df_val.price)\n",
    "    y_train_full = np.log1p(df_train_full.price)\n",
    "\n",
    "    del df_train     ['price']\n",
    "    del df_test      ['price']\n",
    "    del df_val       ['price']\n",
    "    del df_train_full['price']\n",
    "    return df_train, df_test, df_val, df_train_full, y_train, y_test, y_val, y_train_full\n",
    "\n",
    "def calculate_rmse_by_seed(seed):\n",
    "    df_train, df_test, df_val, df_train_full, y_train, y_test, y_val, y_train_full = split_by_seed(seed)\n",
    "    \n",
    "    X_train = prepare_X(df_train)\n",
    "    X_val   = prepare_X(df_val)\n",
    "    w0, w = train_linear_regression_reg(X_train,y_train,r=r)\n",
    "    y_pred = w0 + X_val.dot(w)\n",
    "    error = rmse(y_val,y_pred)\n",
    "    return error\n",
    "\n",
    "seeds = [0, 1, 2, 3, 4, 5, 6, 7, 8, 9]\n",
    "errors = [ calculate_rmse_by_seed(seed) for seed in seeds]\n",
    "print(errors)\n",
    "print(np.std(errors))\n",
    "print(np.round(np.std(errors),3))"
   ]
  },
  {
   "cell_type": "markdown",
   "id": "7c6fcb44",
   "metadata": {},
   "source": [
    "## Q6: Final model error"
   ]
  },
  {
   "cell_type": "code",
   "execution_count": 84,
   "id": "f1845bb7",
   "metadata": {},
   "outputs": [
    {
     "data": {
      "text/plain": [
       "0.6433477825553248"
      ]
     },
     "execution_count": 84,
     "metadata": {},
     "output_type": "execute_result"
    }
   ],
   "source": [
    "seed = 42\n",
    "df_train, df_test, df_val, df_train_full, y_train, y_test, y_val, y_train_full = split_by_seed(seed)\n",
    "X_train_full = prepare_X(df_train_full)\n",
    "X_test       = prepare_X(df_test)\n",
    "\n",
    "w0, w = train_linear_regression_reg(X_train_full,y_train_full,r=0.001)\n",
    "y_test_pred = w0 + X_test.dot(w)\n",
    "rmse(y_test,y_test_pred)"
   ]
  }
 ],
 "metadata": {
  "kernelspec": {
   "display_name": "Python 3 (ipykernel)",
   "language": "python",
   "name": "python3"
  },
  "language_info": {
   "codemirror_mode": {
    "name": "ipython",
    "version": 3
   },
   "file_extension": ".py",
   "mimetype": "text/x-python",
   "name": "python",
   "nbconvert_exporter": "python",
   "pygments_lexer": "ipython3",
   "version": "3.8.11"
  }
 },
 "nbformat": 4,
 "nbformat_minor": 5
}
