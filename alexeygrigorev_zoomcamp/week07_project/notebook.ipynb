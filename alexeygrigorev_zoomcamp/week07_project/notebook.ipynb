{
 "cells": [
  {
   "cell_type": "markdown",
   "id": "4613962d",
   "metadata": {},
   "source": [
    "# Mid Term Project: Salary Prediction"
   ]
  },
  {
   "cell_type": "code",
   "execution_count": 1,
   "id": "6a724d3c",
   "metadata": {},
   "outputs": [],
   "source": [
    "import pandas            as pd\n",
    "import numpy             as np\n",
    "import matplotlib.pyplot as plt\n",
    "import seaborn           as sns\n",
    "\n",
    "from functools import partial\n",
    "from itertools import groupby\n",
    "\n",
    "from sklearn.metrics            import mutual_info_score\n",
    "from sklearn.feature_extraction import DictVectorizer\n",
    "from sklearn.model_selection    import train_test_split\n",
    "from sklearn.tree               import DecisionTreeRegressor, export_text\n",
    "from sklearn.ensemble           import RandomForestRegressor\n",
    "\n",
    "import xgboost as xgb\n",
    "\n",
    "%matplotlib inline"
   ]
  },
  {
   "cell_type": "markdown",
   "id": "40f47c9e",
   "metadata": {},
   "source": [
    "# EDA"
   ]
  },
  {
   "cell_type": "code",
   "execution_count": 2,
   "id": "4b21a0ac",
   "metadata": {},
   "outputs": [
    {
     "name": "stdout",
     "output_type": "stream",
     "text": [
      "--2021-11-02 02:02:53--  https://github.com/rfordatascience/tidytuesday/raw/master/data/2021/2021-05-18/survey.csv\n",
      "Resolving github.com (github.com)... 192.30.255.112\n",
      "Connecting to github.com (github.com)|192.30.255.112|:443... connected.\n",
      "HTTP request sent, awaiting response... 302 Found\n",
      "Location: https://raw.githubusercontent.com/rfordatascience/tidytuesday/master/data/2021/2021-05-18/survey.csv [following]\n",
      "--2021-11-02 02:02:53--  https://raw.githubusercontent.com/rfordatascience/tidytuesday/master/data/2021/2021-05-18/survey.csv\n",
      "Resolving raw.githubusercontent.com (raw.githubusercontent.com)... 185.199.110.133, 185.199.111.133, 185.199.108.133, ...\n",
      "Connecting to raw.githubusercontent.com (raw.githubusercontent.com)|185.199.110.133|:443... connected.\n",
      "HTTP request sent, awaiting response... 200 OK\n",
      "Length: 5147731 (4.9M) [text/plain]\n",
      "Saving to: ‘survey.csv.13’\n",
      "\n",
      "survey.csv.13       100%[===================>]   4.91M  5.41MB/s    in 0.9s    \n",
      "\n",
      "2021-11-02 02:02:54 (5.41 MB/s) - ‘survey.csv.13’ saved [5147731/5147731]\n",
      "\n"
     ]
    }
   ],
   "source": [
    "!wget https://github.com/rfordatascience/tidytuesday/raw/master/data/2021/2021-05-18/survey.csv"
   ]
  },
  {
   "cell_type": "code",
   "execution_count": 3,
   "id": "3531645a",
   "metadata": {},
   "outputs": [
    {
     "data": {
      "text/plain": [
       "timestamp                                   datetime64[ns]\n",
       "how_old_are_you                                     object\n",
       "industry                                            object\n",
       "job_title                                           object\n",
       "additional_context_on_job_title                     object\n",
       "annual_salary                                        int64\n",
       "other_monetary_comp                                float64\n",
       "currency                                            object\n",
       "currency_other                                      object\n",
       "additional_context_on_income                        object\n",
       "country                                             object\n",
       "state                                               object\n",
       "city                                                object\n",
       "overall_years_of_professional_experience            object\n",
       "years_of_experience_in_field                        object\n",
       "highest_level_of_education_completed                object\n",
       "gender                                              object\n",
       "race                                                object\n",
       "dtype: object"
      ]
     },
     "execution_count": 3,
     "metadata": {},
     "output_type": "execute_result"
    }
   ],
   "source": [
    "df_raw = pd.read_csv('survey.csv')\n",
    "df_raw.timestamp = pd.to_datetime(df_raw.timestamp, format='%m/%d/%Y %H:%M:%S')\n",
    "df_raw.dtypes"
   ]
  },
  {
   "cell_type": "code",
   "execution_count": 4,
   "id": "9d16c054",
   "metadata": {},
   "outputs": [
    {
     "data": {
      "text/html": [
       "<div>\n",
       "<style scoped>\n",
       "    .dataframe tbody tr th:only-of-type {\n",
       "        vertical-align: middle;\n",
       "    }\n",
       "\n",
       "    .dataframe tbody tr th {\n",
       "        vertical-align: top;\n",
       "    }\n",
       "\n",
       "    .dataframe thead th {\n",
       "        text-align: right;\n",
       "    }\n",
       "</style>\n",
       "<table border=\"1\" class=\"dataframe\">\n",
       "  <thead>\n",
       "    <tr style=\"text-align: right;\">\n",
       "      <th></th>\n",
       "      <th>timestamp</th>\n",
       "      <th>how_old_are_you</th>\n",
       "      <th>industry</th>\n",
       "      <th>job_title</th>\n",
       "      <th>additional_context_on_job_title</th>\n",
       "      <th>annual_salary</th>\n",
       "      <th>other_monetary_comp</th>\n",
       "      <th>currency</th>\n",
       "      <th>currency_other</th>\n",
       "      <th>additional_context_on_income</th>\n",
       "      <th>country</th>\n",
       "      <th>state</th>\n",
       "      <th>city</th>\n",
       "      <th>overall_years_of_professional_experience</th>\n",
       "      <th>years_of_experience_in_field</th>\n",
       "      <th>highest_level_of_education_completed</th>\n",
       "      <th>gender</th>\n",
       "      <th>race</th>\n",
       "    </tr>\n",
       "  </thead>\n",
       "  <tbody>\n",
       "    <tr>\n",
       "      <th>0</th>\n",
       "      <td>2021-04-27 11:02:10</td>\n",
       "      <td>25-34</td>\n",
       "      <td>Education (Higher Education)</td>\n",
       "      <td>Research and Instruction Librarian</td>\n",
       "      <td>NaN</td>\n",
       "      <td>55000</td>\n",
       "      <td>0.0</td>\n",
       "      <td>USD</td>\n",
       "      <td>NaN</td>\n",
       "      <td>NaN</td>\n",
       "      <td>United States</td>\n",
       "      <td>Massachusetts</td>\n",
       "      <td>Boston</td>\n",
       "      <td>5-7 years</td>\n",
       "      <td>5-7 years</td>\n",
       "      <td>Master's degree</td>\n",
       "      <td>Woman</td>\n",
       "      <td>White</td>\n",
       "    </tr>\n",
       "    <tr>\n",
       "      <th>1</th>\n",
       "      <td>2021-04-27 11:02:22</td>\n",
       "      <td>25-34</td>\n",
       "      <td>Computing or Tech</td>\n",
       "      <td>Change &amp; Internal Communications Manager</td>\n",
       "      <td>NaN</td>\n",
       "      <td>54600</td>\n",
       "      <td>4000.0</td>\n",
       "      <td>GBP</td>\n",
       "      <td>NaN</td>\n",
       "      <td>NaN</td>\n",
       "      <td>United Kingdom</td>\n",
       "      <td>NaN</td>\n",
       "      <td>Cambridge</td>\n",
       "      <td>8 - 10 years</td>\n",
       "      <td>5-7 years</td>\n",
       "      <td>College degree</td>\n",
       "      <td>Non-binary</td>\n",
       "      <td>White</td>\n",
       "    </tr>\n",
       "    <tr>\n",
       "      <th>2</th>\n",
       "      <td>2021-04-27 11:02:38</td>\n",
       "      <td>25-34</td>\n",
       "      <td>Accounting, Banking &amp; Finance</td>\n",
       "      <td>Marketing Specialist</td>\n",
       "      <td>NaN</td>\n",
       "      <td>34000</td>\n",
       "      <td>NaN</td>\n",
       "      <td>USD</td>\n",
       "      <td>NaN</td>\n",
       "      <td>NaN</td>\n",
       "      <td>US</td>\n",
       "      <td>Tennessee</td>\n",
       "      <td>Chattanooga</td>\n",
       "      <td>2 - 4 years</td>\n",
       "      <td>2 - 4 years</td>\n",
       "      <td>College degree</td>\n",
       "      <td>Woman</td>\n",
       "      <td>White</td>\n",
       "    </tr>\n",
       "    <tr>\n",
       "      <th>3</th>\n",
       "      <td>2021-04-27 11:02:41</td>\n",
       "      <td>25-34</td>\n",
       "      <td>Nonprofits</td>\n",
       "      <td>Program Manager</td>\n",
       "      <td>NaN</td>\n",
       "      <td>62000</td>\n",
       "      <td>3000.0</td>\n",
       "      <td>USD</td>\n",
       "      <td>NaN</td>\n",
       "      <td>NaN</td>\n",
       "      <td>USA</td>\n",
       "      <td>Wisconsin</td>\n",
       "      <td>Milwaukee</td>\n",
       "      <td>8 - 10 years</td>\n",
       "      <td>5-7 years</td>\n",
       "      <td>College degree</td>\n",
       "      <td>Woman</td>\n",
       "      <td>White</td>\n",
       "    </tr>\n",
       "    <tr>\n",
       "      <th>4</th>\n",
       "      <td>2021-04-27 11:02:42</td>\n",
       "      <td>25-34</td>\n",
       "      <td>Accounting, Banking &amp; Finance</td>\n",
       "      <td>Accounting Manager</td>\n",
       "      <td>NaN</td>\n",
       "      <td>60000</td>\n",
       "      <td>7000.0</td>\n",
       "      <td>USD</td>\n",
       "      <td>NaN</td>\n",
       "      <td>NaN</td>\n",
       "      <td>US</td>\n",
       "      <td>South Carolina</td>\n",
       "      <td>Greenville</td>\n",
       "      <td>8 - 10 years</td>\n",
       "      <td>5-7 years</td>\n",
       "      <td>College degree</td>\n",
       "      <td>Woman</td>\n",
       "      <td>White</td>\n",
       "    </tr>\n",
       "  </tbody>\n",
       "</table>\n",
       "</div>"
      ],
      "text/plain": [
       "            timestamp how_old_are_you                       industry  \\\n",
       "0 2021-04-27 11:02:10           25-34   Education (Higher Education)   \n",
       "1 2021-04-27 11:02:22           25-34              Computing or Tech   \n",
       "2 2021-04-27 11:02:38           25-34  Accounting, Banking & Finance   \n",
       "3 2021-04-27 11:02:41           25-34                     Nonprofits   \n",
       "4 2021-04-27 11:02:42           25-34  Accounting, Banking & Finance   \n",
       "\n",
       "                                  job_title additional_context_on_job_title  \\\n",
       "0        Research and Instruction Librarian                             NaN   \n",
       "1  Change & Internal Communications Manager                             NaN   \n",
       "2                      Marketing Specialist                             NaN   \n",
       "3                           Program Manager                             NaN   \n",
       "4                        Accounting Manager                             NaN   \n",
       "\n",
       "   annual_salary  other_monetary_comp currency currency_other  \\\n",
       "0          55000                  0.0      USD            NaN   \n",
       "1          54600               4000.0      GBP            NaN   \n",
       "2          34000                  NaN      USD            NaN   \n",
       "3          62000               3000.0      USD            NaN   \n",
       "4          60000               7000.0      USD            NaN   \n",
       "\n",
       "  additional_context_on_income         country           state         city  \\\n",
       "0                          NaN   United States   Massachusetts       Boston   \n",
       "1                          NaN  United Kingdom             NaN    Cambridge   \n",
       "2                          NaN              US       Tennessee  Chattanooga   \n",
       "3                          NaN             USA       Wisconsin    Milwaukee   \n",
       "4                          NaN              US  South Carolina   Greenville   \n",
       "\n",
       "  overall_years_of_professional_experience years_of_experience_in_field  \\\n",
       "0                                5-7 years                    5-7 years   \n",
       "1                             8 - 10 years                    5-7 years   \n",
       "2                              2 - 4 years                  2 - 4 years   \n",
       "3                             8 - 10 years                    5-7 years   \n",
       "4                             8 - 10 years                    5-7 years   \n",
       "\n",
       "  highest_level_of_education_completed      gender   race  \n",
       "0                      Master's degree       Woman  White  \n",
       "1                       College degree  Non-binary  White  \n",
       "2                       College degree       Woman  White  \n",
       "3                       College degree       Woman  White  \n",
       "4                       College degree       Woman  White  "
      ]
     },
     "execution_count": 4,
     "metadata": {},
     "output_type": "execute_result"
    }
   ],
   "source": [
    "df_raw.head()"
   ]
  },
  {
   "cell_type": "markdown",
   "id": "700753ca",
   "metadata": {},
   "source": [
    "Looking through some key data to determine what is in the data set"
   ]
  },
  {
   "cell_type": "code",
   "execution_count": 5,
   "id": "3afd3a34",
   "metadata": {},
   "outputs": [
    {
     "data": {
      "text/plain": [
       "timestamp                                       0\n",
       "how_old_are_you                                 0\n",
       "industry                                       59\n",
       "job_title                                       0\n",
       "additional_context_on_job_title             19469\n",
       "annual_salary                                   0\n",
       "other_monetary_comp                          6785\n",
       "currency                                        0\n",
       "currency_other                              26066\n",
       "additional_context_on_income                23360\n",
       "country                                         0\n",
       "state                                        4687\n",
       "city                                           78\n",
       "overall_years_of_professional_experience        0\n",
       "years_of_experience_in_field                    0\n",
       "highest_level_of_education_completed          196\n",
       "gender                                        148\n",
       "race                                          146\n",
       "dtype: int64"
      ]
     },
     "execution_count": 5,
     "metadata": {},
     "output_type": "execute_result"
    }
   ],
   "source": [
    "df_raw.isnull().sum()"
   ]
  },
  {
   "cell_type": "code",
   "execution_count": 6,
   "id": "a9f4b6e4",
   "metadata": {},
   "outputs": [
    {
     "data": {
      "text/plain": [
       "25-34         11748\n",
       "35-44          9398\n",
       "45-54          3042\n",
       "18-24          1015\n",
       "55-64           931\n",
       "65 or over       88\n",
       "under 18         10\n",
       "Name: how_old_are_you, dtype: int64"
      ]
     },
     "execution_count": 6,
     "metadata": {},
     "output_type": "execute_result"
    }
   ],
   "source": [
    "df_raw.how_old_are_you.value_counts()"
   ]
  },
  {
   "cell_type": "code",
   "execution_count": 7,
   "id": "6c147981",
   "metadata": {},
   "outputs": [
    {
     "data": {
      "text/plain": [
       "Computing or Tech                       4360\n",
       "Education (Higher Education)            2359\n",
       "Nonprofits                              2331\n",
       "Government and Public Administration    1821\n",
       "Health care                             1739\n",
       "                                        ... \n",
       "Aerospace/Aviation                         1\n",
       "I work for Indeed.com                      1\n",
       "Archives/Library Science                   1\n",
       "Geospatial                                 1\n",
       "Landscaping                                1\n",
       "Name: industry, Length: 1068, dtype: int64"
      ]
     },
     "execution_count": 7,
     "metadata": {},
     "output_type": "execute_result"
    }
   ],
   "source": [
    "df_raw.industry.value_counts()"
   ]
  },
  {
   "cell_type": "code",
   "execution_count": 8,
   "id": "b86784b5",
   "metadata": {},
   "outputs": [
    {
     "data": {
      "text/plain": [
       "Software Engineer                       289\n",
       "Project Manager                         242\n",
       "Director                                211\n",
       "Senior Software Engineer                200\n",
       "Executive Assistant                     171\n",
       "                                       ... \n",
       "Events and Outreach Manager               1\n",
       "Head of Circulation and Reference         1\n",
       "Grant Advisor                             1\n",
       "Coordinator, Marketing and Promotion      1\n",
       "Knowledge Management Manager              1\n",
       "Name: job_title, Length: 12622, dtype: int64"
      ]
     },
     "execution_count": 8,
     "metadata": {},
     "output_type": "execute_result"
    }
   ],
   "source": [
    "df_raw.job_title.value_counts()"
   ]
  },
  {
   "cell_type": "code",
   "execution_count": 9,
   "id": "97b8619d",
   "metadata": {},
   "outputs": [
    {
     "data": {
      "text/plain": [
       "United States                                            9010\n",
       "USA                                                      7918\n",
       "US                                                       2485\n",
       "Canada                                                   1543\n",
       "United Kingdom                                            584\n",
       "                                                         ... \n",
       "Sri lanka                                                   1\n",
       "Kuwait                                                      1\n",
       "Eritrea                                                     1\n",
       "For the United States government, but posted overseas       1\n",
       "france                                                      1\n",
       "Name: country, Length: 294, dtype: int64"
      ]
     },
     "execution_count": 9,
     "metadata": {},
     "output_type": "execute_result"
    }
   ],
   "source": [
    "df_raw.country.value_counts()"
   ]
  },
  {
   "cell_type": "code",
   "execution_count": 10,
   "id": "2c8ef7b0",
   "metadata": {},
   "outputs": [
    {
     "data": {
      "text/plain": [
       "11 - 20 years       9139\n",
       "8 - 10 years        5041\n",
       "5-7 years           4515\n",
       "21 - 30 years       3470\n",
       "2 - 4 years         2700\n",
       "31 - 40 years        821\n",
       "1 year or less       431\n",
       "41 years or more     115\n",
       "Name: overall_years_of_professional_experience, dtype: int64"
      ]
     },
     "execution_count": 10,
     "metadata": {},
     "output_type": "execute_result"
    }
   ],
   "source": [
    "df_raw.overall_years_of_professional_experience.value_counts()"
   ]
  },
  {
   "cell_type": "code",
   "execution_count": 11,
   "id": "fdc24ff1",
   "metadata": {},
   "outputs": [
    {
     "data": {
      "text/plain": [
       "11 - 20 years       6245\n",
       "5-7 years           6114\n",
       "2 - 4 years         5737\n",
       "8 - 10 years        4701\n",
       "21 - 30 years       1782\n",
       "1 year or less      1249\n",
       "31 - 40 years        366\n",
       "41 years or more      38\n",
       "Name: years_of_experience_in_field, dtype: int64"
      ]
     },
     "execution_count": 11,
     "metadata": {},
     "output_type": "execute_result"
    }
   ],
   "source": [
    "df_raw.years_of_experience_in_field.value_counts()"
   ]
  },
  {
   "cell_type": "code",
   "execution_count": 12,
   "id": "a8e4c5b8",
   "metadata": {},
   "outputs": [
    {
     "data": {
      "text/plain": [
       "College degree                        12584\n",
       "Master's degree                        8387\n",
       "Some college                           1880\n",
       "PhD                                    1356\n",
       "Professional degree (MD, JD, etc.)     1261\n",
       "High School                             568\n",
       "Name: highest_level_of_education_completed, dtype: int64"
      ]
     },
     "execution_count": 12,
     "metadata": {},
     "output_type": "execute_result"
    }
   ],
   "source": [
    "df_raw.highest_level_of_education_completed.value_counts()"
   ]
  },
  {
   "cell_type": "code",
   "execution_count": 13,
   "id": "017b7847",
   "metadata": {},
   "outputs": [
    {
     "data": {
      "text/plain": [
       "Woman                            20359\n",
       "Man                               4743\n",
       "Non-binary                         713\n",
       "Other or prefer not to answer      268\n",
       "Prefer not to answer                 1\n",
       "Name: gender, dtype: int64"
      ]
     },
     "execution_count": 13,
     "metadata": {},
     "output_type": "execute_result"
    }
   ],
   "source": [
    "df_raw.gender.value_counts()"
   ]
  },
  {
   "cell_type": "code",
   "execution_count": 14,
   "id": "bc625f8f",
   "metadata": {},
   "outputs": [
    {
     "data": {
      "text/plain": [
       "White                                                     21909\n",
       "Asian or Asian American                                    1217\n",
       "Black or African American                                   618\n",
       "Another option not listed here or prefer not to answer      566\n",
       "Hispanic, Latino, or Spanish origin                         521\n",
       "Hispanic, Latino, or Spanish origin, White                  351\n",
       "Asian or Asian American, White                              327\n",
       "Black or African American, White                            121\n",
       "Middle Eastern or Northern African, White                    73\n",
       "Native American or Alaska Native, White                      65\n",
       "Name: race, dtype: int64"
      ]
     },
     "execution_count": 14,
     "metadata": {},
     "output_type": "execute_result"
    }
   ],
   "source": [
    "df_raw.race.value_counts()[:10]"
   ]
  },
  {
   "cell_type": "code",
   "execution_count": 15,
   "id": "e753d9ec",
   "metadata": {},
   "outputs": [
    {
     "data": {
      "text/plain": [
       "0         55000\n",
       "1         54600\n",
       "2         34000\n",
       "3         62000\n",
       "4         60000\n",
       "          ...  \n",
       "26227     85000\n",
       "26228     40000\n",
       "26229    148000\n",
       "26230     65000\n",
       "26231    146192\n",
       "Name: annual_salary, Length: 26232, dtype: int64"
      ]
     },
     "execution_count": 15,
     "metadata": {},
     "output_type": "execute_result"
    }
   ],
   "source": [
    "df_raw.annual_salary"
   ]
  },
  {
   "cell_type": "code",
   "execution_count": 16,
   "id": "e2c374c0",
   "metadata": {},
   "outputs": [
    {
     "data": {
      "text/plain": [
       "<AxesSubplot:xlabel='annual_salary', ylabel='Count'>"
      ]
     },
     "execution_count": 16,
     "metadata": {},
     "output_type": "execute_result"
    },
    {
     "data": {
      "image/png": "[encoded data removed]",
      "text/plain": [
       "<Figure size 432x288 with 1 Axes>"
      ]
     },
     "metadata": {
      "needs_background": "light"
     },
     "output_type": "display_data"
    }
   ],
   "source": [
    "sns.histplot(np.log1p(df_raw.annual_salary),bins=100)"
   ]
  },
  {
   "cell_type": "markdown",
   "id": "d6764d3c",
   "metadata": {},
   "source": [
    "## Data wrangling"
   ]
  },
  {
   "cell_type": "markdown",
   "id": "08135fd3",
   "metadata": {},
   "source": [
    "Due to slow computering resources, I will edit single instanced values for several fields to the same value to reduce fit parameters. A fair amount of editing was done on the fields, as they were text inputs in the survey, and often don't make sense. There still is some inprecise records in the data, but these would require some more complicated methods to fix up, and so were left as is."
   ]
  },
  {
   "cell_type": "code",
   "execution_count": 17,
   "id": "6fa7cfdc",
   "metadata": {},
   "outputs": [
    {
     "data": {
      "text/plain": [
       "timestamp                                   datetime64[ns]\n",
       "how_old_are_you                                     object\n",
       "industry                                            object\n",
       "job_title                                           object\n",
       "additional_context_on_job_title                     object\n",
       "annual_salary                                        int64\n",
       "other_monetary_comp                                float64\n",
       "currency                                            object\n",
       "currency_other                                      object\n",
       "additional_context_on_income                        object\n",
       "country                                             object\n",
       "state                                               object\n",
       "city                                                object\n",
       "overall_years_of_professional_experience            object\n",
       "years_of_experience_in_field                        object\n",
       "highest_level_of_education_completed                object\n",
       "gender                                              object\n",
       "race                                                object\n",
       "dtype: object"
      ]
     },
     "execution_count": 17,
     "metadata": {},
     "output_type": "execute_result"
    }
   ],
   "source": [
    "df_raw.dtypes"
   ]
  },
  {
   "cell_type": "code",
   "execution_count": 18,
   "id": "990fc4f6",
   "metadata": {},
   "outputs": [],
   "source": [
    "string_columns = df_raw.columns[(df_raw.dtypes == 'object')]\n",
    "for col in string_columns:\n",
    "    df_raw[col] = df_raw[col].str.lower().str.replace(' ','_')"
   ]
  },
  {
   "cell_type": "code",
   "execution_count": 19,
   "id": "291a92f9",
   "metadata": {},
   "outputs": [
    {
     "name": "stderr",
     "output_type": "stream",
     "text": [
      "/var/folders/ks/w_gw7dpd45xfmd1xm4cbg94r0000gn/T/ipykernel_11659/3367832682.py:1: SettingWithCopyWarning: \n",
      "A value is trying to be set on a copy of a slice from a DataFrame\n",
      "\n",
      "See the caveats in the documentation: https://pandas.pydata.org/pandas-docs/stable/user_guide/indexing.html#returning-a-view-versus-a-copy\n",
      "  df_raw.job_title[df_raw.job_title == 'manager,_[department_name]'] = 'manager'\n",
      "/var/folders/ks/w_gw7dpd45xfmd1xm4cbg94r0000gn/T/ipykernel_11659/3367832682.py:3: SettingWithCopyWarning: \n",
      "A value is trying to be set on a copy of a slice from a DataFrame\n",
      "\n",
      "See the caveats in the documentation: https://pandas.pydata.org/pandas-docs/stable/user_guide/indexing.html#returning-a-view-versus-a-copy\n",
      "  df_raw.job_title[ df_raw.job_title.isin(single_represented_jobs) ] = 'singular_job_title'\n"
     ]
    }
   ],
   "source": [
    "df_raw.job_title[df_raw.job_title == 'manager,_[department_name]'] = 'manager'\n",
    "single_represented_jobs = df_raw.job_title.value_counts()[df_raw.job_title.value_counts() == 1].index.to_list()\n",
    "df_raw.job_title[ df_raw.job_title.isin(single_represented_jobs) ] = 'singular_job_title'"
   ]
  },
  {
   "cell_type": "code",
   "execution_count": 20,
   "id": "5ef7850d",
   "metadata": {},
   "outputs": [],
   "source": [
    "df_raw = df_raw[~df_raw.industry.isnull()]\n",
    "#Reducing the parameters required for us to fit somewhat\n",
    "underrepresented_industries = df_raw.industry.value_counts()[(df_raw.industry.value_counts() == 1)].index.to_list()\n",
    "df_raw.industry[df_raw.industry.isin(underrepresented_industries)] = 'other'"
   ]
  },
  {
   "cell_type": "code",
   "execution_count": 21,
   "id": "42c7693b",
   "metadata": {},
   "outputs": [
    {
     "data": {
      "text/plain": [
       "college_degree                        12557\n",
       "master's_degree                        8372\n",
       "some_college                           1873\n",
       "phd                                    1354\n",
       "professional_degree_(md,_jd,_etc.)     1260\n",
       "high_school                             563\n",
       "None                                    194\n",
       "Name: highest_level_of_education_completed, dtype: int64"
      ]
     },
     "execution_count": 21,
     "metadata": {},
     "output_type": "execute_result"
    }
   ],
   "source": [
    "df_raw.highest_level_of_education_completed = df_raw.highest_level_of_education_completed.fillna('None')\n",
    "df_raw.highest_level_of_education_completed.value_counts()"
   ]
  },
  {
   "cell_type": "code",
   "execution_count": 22,
   "id": "ce6b09bb",
   "metadata": {},
   "outputs": [
    {
     "name": "stderr",
     "output_type": "stream",
     "text": [
      "/var/folders/ks/w_gw7dpd45xfmd1xm4cbg94r0000gn/T/ipykernel_11659/3467892078.py:2: SettingWithCopyWarning: \n",
      "A value is trying to be set on a copy of a slice from a DataFrame\n",
      "\n",
      "See the caveats in the documentation: https://pandas.pydata.org/pandas-docs/stable/user_guide/indexing.html#returning-a-view-versus-a-copy\n",
      "  df_raw.gender[df_raw.gender == 'prefer_not_to_answer'] = 'other_or_prefer_not_to_answer'\n"
     ]
    },
    {
     "data": {
      "text/plain": [
       "woman                            20306\n",
       "man                               4738\n",
       "non-binary                         713\n",
       "other_or_prefer_not_to_answer      416\n",
       "Name: gender, dtype: int64"
      ]
     },
     "execution_count": 22,
     "metadata": {},
     "output_type": "execute_result"
    }
   ],
   "source": [
    "df_raw.gender = df_raw.gender.fillna('other_or_prefer_not_to_answer')\n",
    "df_raw.gender[df_raw.gender == 'prefer_not_to_answer'] = 'other_or_prefer_not_to_answer'\n",
    "df_raw.gender.value_counts()"
   ]
  },
  {
   "cell_type": "code",
   "execution_count": 23,
   "id": "99480333",
   "metadata": {},
   "outputs": [
    {
     "name": "stderr",
     "output_type": "stream",
     "text": [
      "/var/folders/ks/w_gw7dpd45xfmd1xm4cbg94r0000gn/T/ipykernel_11659/1249477499.py:2: SettingWithCopyWarning: \n",
      "A value is trying to be set on a copy of a slice from a DataFrame\n",
      "\n",
      "See the caveats in the documentation: https://pandas.pydata.org/pandas-docs/stable/user_guide/indexing.html#returning-a-view-versus-a-copy\n",
      "  df_raw.country[df_raw.country.isin(['united_states','usa','us','u.s.','united_states_of_america','united__states'])] = 'united_states'\n",
      "/var/folders/ks/w_gw7dpd45xfmd1xm4cbg94r0000gn/T/ipykernel_11659/1249477499.py:3: SettingWithCopyWarning: \n",
      "A value is trying to be set on a copy of a slice from a DataFrame\n",
      "\n",
      "See the caveats in the documentation: https://pandas.pydata.org/pandas-docs/stable/user_guide/indexing.html#returning-a-view-versus-a-copy\n",
      "  df_raw.country[df_raw.country.isin(['uk','united_kingdom','england,_gb','england,_uk.','united_kindom','united_kingdom_(england)','wales_(united_kingdom)','u.k.','uk_(england)'])] = 'united_kingdom'\n",
      "/var/folders/ks/w_gw7dpd45xfmd1xm4cbg94r0000gn/T/ipykernel_11659/1249477499.py:4: SettingWithCopyWarning: \n",
      "A value is trying to be set on a copy of a slice from a DataFrame\n",
      "\n",
      "See the caveats in the documentation: https://pandas.pydata.org/pandas-docs/stable/user_guide/indexing.html#returning-a-view-versus-a-copy\n",
      "  df_raw.country[df_raw.country.isin(['canada,_ottawa,_ontario'])] = 'canada'\n"
     ]
    },
    {
     "data": {
      "text/plain": [
       "united_states                                                             21430\n",
       "canada                                                                     1569\n",
       "united_kingdom                                                             1286\n",
       "australia                                                                   369\n",
       "germany                                                                     181\n",
       "                                                                          ...  \n",
       "new_zealand_aotearoa                                                          1\n",
       "hartford                                                                      1\n",
       "japan,_us_gov_position                                                        1\n",
       "csnada                                                                        1\n",
       "i_work_for_a_uae-based_organization,_though_i_am_personally_in_the_us.        1\n",
       "Name: country, Length: 226, dtype: int64"
      ]
     },
     "execution_count": 23,
     "metadata": {},
     "output_type": "execute_result"
    }
   ],
   "source": [
    "# Normalising country\n",
    "df_raw.country[df_raw.country.isin(['united_states','usa','us','u.s.','united_states_of_america','united__states'])] = 'united_states'\n",
    "df_raw.country[df_raw.country.isin(['uk','united_kingdom','england,_gb','england,_uk.','united_kindom','united_kingdom_(england)','wales_(united_kingdom)','u.k.','uk_(england)'])] = 'united_kingdom'\n",
    "df_raw.country[df_raw.country.isin(['canada,_ottawa,_ontario'])] = 'canada'\n",
    "df_raw.country.value_counts()"
   ]
  },
  {
   "cell_type": "code",
   "execution_count": 24,
   "id": "57d4623b",
   "metadata": {},
   "outputs": [
    {
     "data": {
      "text/plain": [
       "usd        21805\n",
       "cad         1561\n",
       "gbp         1517\n",
       "eur          582\n",
       "aud/nzd      467\n",
       "chf           35\n",
       "sek           34\n",
       "jpy           22\n",
       "zar           13\n",
       "hkd            4\n",
       "Name: currency, dtype: int64"
      ]
     },
     "execution_count": 24,
     "metadata": {},
     "output_type": "execute_result"
    }
   ],
   "source": [
    "# We really want to deal with total renumeration\n",
    "df_raw.other_monetary_comp = df_raw.other_monetary_comp.fillna(0)\n",
    "df_raw.currency_other = df_raw.currency_other.fillna(df_raw.currency)\n",
    "\n",
    "df_raw = df_raw[df_raw.currency != 'other'].reset_index(drop=True)\n",
    "df_raw.currency.value_counts()"
   ]
  },
  {
   "cell_type": "code",
   "execution_count": 25,
   "id": "97ce6c85",
   "metadata": {},
   "outputs": [
    {
     "data": {
      "text/html": [
       "<div>\n",
       "<style scoped>\n",
       "    .dataframe tbody tr th:only-of-type {\n",
       "        vertical-align: middle;\n",
       "    }\n",
       "\n",
       "    .dataframe tbody tr th {\n",
       "        vertical-align: top;\n",
       "    }\n",
       "\n",
       "    .dataframe thead th {\n",
       "        text-align: right;\n",
       "    }\n",
       "</style>\n",
       "<table border=\"1\" class=\"dataframe\">\n",
       "  <thead>\n",
       "    <tr style=\"text-align: right;\">\n",
       "      <th></th>\n",
       "      <th>timestamp</th>\n",
       "      <th>how_old_are_you</th>\n",
       "      <th>industry</th>\n",
       "      <th>job_title</th>\n",
       "      <th>additional_context_on_job_title</th>\n",
       "      <th>annual_salary</th>\n",
       "      <th>other_monetary_comp</th>\n",
       "      <th>currency</th>\n",
       "      <th>currency_other</th>\n",
       "      <th>additional_context_on_income</th>\n",
       "      <th>country</th>\n",
       "      <th>state</th>\n",
       "      <th>city</th>\n",
       "      <th>overall_years_of_professional_experience</th>\n",
       "      <th>years_of_experience_in_field</th>\n",
       "      <th>highest_level_of_education_completed</th>\n",
       "      <th>gender</th>\n",
       "      <th>race</th>\n",
       "    </tr>\n",
       "  </thead>\n",
       "  <tbody>\n",
       "    <tr>\n",
       "      <th>748</th>\n",
       "      <td>2021-04-27 11:14:29</td>\n",
       "      <td>45-54</td>\n",
       "      <td>other</td>\n",
       "      <td>administrative_librarian</td>\n",
       "      <td>i_run_a_branch_library_and_am_responsible_for_...</td>\n",
       "      <td>76302</td>\n",
       "      <td>0.0</td>\n",
       "      <td>usd</td>\n",
       "      <td>$76,302.34</td>\n",
       "      <td>NaN</td>\n",
       "      <td>united_states</td>\n",
       "      <td>arizona</td>\n",
       "      <td>glendale</td>\n",
       "      <td>21_-_30_years</td>\n",
       "      <td>21_-_30_years</td>\n",
       "      <td>master's_degree</td>\n",
       "      <td>woman</td>\n",
       "      <td>white</td>\n",
       "    </tr>\n",
       "    <tr>\n",
       "      <th>762</th>\n",
       "      <td>2021-04-27 11:14:39</td>\n",
       "      <td>25-34</td>\n",
       "      <td>recruitment_or_hr</td>\n",
       "      <td>singular_job_title</td>\n",
       "      <td>NaN</td>\n",
       "      <td>64000</td>\n",
       "      <td>6400.0</td>\n",
       "      <td>usd</td>\n",
       "      <td>my_bonus_is_based_on_performance_up_to_10%_of_...</td>\n",
       "      <td>NaN</td>\n",
       "      <td>united_states</td>\n",
       "      <td>new_york</td>\n",
       "      <td>schenectady</td>\n",
       "      <td>5-7_years</td>\n",
       "      <td>5-7_years</td>\n",
       "      <td>college_degree</td>\n",
       "      <td>woman</td>\n",
       "      <td>white</td>\n",
       "    </tr>\n",
       "    <tr>\n",
       "      <th>772</th>\n",
       "      <td>2021-04-27 11:14:45</td>\n",
       "      <td>45-54</td>\n",
       "      <td>education_(higher_education)</td>\n",
       "      <td>singular_job_title</td>\n",
       "      <td>i</td>\n",
       "      <td>53000</td>\n",
       "      <td>0.0</td>\n",
       "      <td>usd</td>\n",
       "      <td>i_work_for_an_online_state_university,_managin...</td>\n",
       "      <td>i_have_excellent_health_benefits,_time_off,_si...</td>\n",
       "      <td>united_states</td>\n",
       "      <td>new_jersey</td>\n",
       "      <td>trenton</td>\n",
       "      <td>8_-_10_years</td>\n",
       "      <td>2_-_4_years</td>\n",
       "      <td>master's_degree</td>\n",
       "      <td>woman</td>\n",
       "      <td>white</td>\n",
       "    </tr>\n",
       "    <tr>\n",
       "      <th>997</th>\n",
       "      <td>2021-04-27 11:18:27</td>\n",
       "      <td>35-44</td>\n",
       "      <td>recruitment_or_hr</td>\n",
       "      <td>singular_job_title</td>\n",
       "      <td>NaN</td>\n",
       "      <td>53500</td>\n",
       "      <td>0.0</td>\n",
       "      <td>usd</td>\n",
       "      <td>0</td>\n",
       "      <td>NaN</td>\n",
       "      <td>united_states</td>\n",
       "      <td>minnesota</td>\n",
       "      <td>minneapolis</td>\n",
       "      <td>11_-_20_years</td>\n",
       "      <td>2_-_4_years</td>\n",
       "      <td>college_degree</td>\n",
       "      <td>woman</td>\n",
       "      <td>white</td>\n",
       "    </tr>\n",
       "    <tr>\n",
       "      <th>1908</th>\n",
       "      <td>2021-04-27 11:34:43</td>\n",
       "      <td>35-44</td>\n",
       "      <td>education_(primary/secondary)</td>\n",
       "      <td>instructional_coach</td>\n",
       "      <td>NaN</td>\n",
       "      <td>13560</td>\n",
       "      <td>0.0</td>\n",
       "      <td>usd</td>\n",
       "      <td>kwd</td>\n",
       "      <td>international_overseas_hires_also_get_flights_...</td>\n",
       "      <td>kuwait</td>\n",
       "      <td>NaN</td>\n",
       "      <td>hawalli</td>\n",
       "      <td>11_-_20_years</td>\n",
       "      <td>1_year_or_less</td>\n",
       "      <td>master's_degree</td>\n",
       "      <td>woman</td>\n",
       "      <td>white</td>\n",
       "    </tr>\n",
       "  </tbody>\n",
       "</table>\n",
       "</div>"
      ],
      "text/plain": [
       "               timestamp how_old_are_you                       industry  \\\n",
       "748  2021-04-27 11:14:29           45-54                          other   \n",
       "762  2021-04-27 11:14:39           25-34              recruitment_or_hr   \n",
       "772  2021-04-27 11:14:45           45-54   education_(higher_education)   \n",
       "997  2021-04-27 11:18:27           35-44              recruitment_or_hr   \n",
       "1908 2021-04-27 11:34:43           35-44  education_(primary/secondary)   \n",
       "\n",
       "                     job_title  \\\n",
       "748   administrative_librarian   \n",
       "762         singular_job_title   \n",
       "772         singular_job_title   \n",
       "997         singular_job_title   \n",
       "1908       instructional_coach   \n",
       "\n",
       "                        additional_context_on_job_title  annual_salary  \\\n",
       "748   i_run_a_branch_library_and_am_responsible_for_...          76302   \n",
       "762                                                 NaN          64000   \n",
       "772                                                   i          53000   \n",
       "997                                                 NaN          53500   \n",
       "1908                                                NaN          13560   \n",
       "\n",
       "      other_monetary_comp currency  \\\n",
       "748                   0.0      usd   \n",
       "762                6400.0      usd   \n",
       "772                   0.0      usd   \n",
       "997                   0.0      usd   \n",
       "1908                  0.0      usd   \n",
       "\n",
       "                                         currency_other  \\\n",
       "748                                          $76,302.34   \n",
       "762   my_bonus_is_based_on_performance_up_to_10%_of_...   \n",
       "772   i_work_for_an_online_state_university,_managin...   \n",
       "997                                                   0   \n",
       "1908                                                kwd   \n",
       "\n",
       "                           additional_context_on_income        country  \\\n",
       "748                                                 NaN  united_states   \n",
       "762                                                 NaN  united_states   \n",
       "772   i_have_excellent_health_benefits,_time_off,_si...  united_states   \n",
       "997                                                 NaN  united_states   \n",
       "1908  international_overseas_hires_also_get_flights_...         kuwait   \n",
       "\n",
       "           state         city overall_years_of_professional_experience  \\\n",
       "748      arizona     glendale                            21_-_30_years   \n",
       "762     new_york  schenectady                                5-7_years   \n",
       "772   new_jersey      trenton                             8_-_10_years   \n",
       "997    minnesota  minneapolis                            11_-_20_years   \n",
       "1908         NaN      hawalli                            11_-_20_years   \n",
       "\n",
       "     years_of_experience_in_field highest_level_of_education_completed gender  \\\n",
       "748                 21_-_30_years                      master's_degree  woman   \n",
       "762                     5-7_years                       college_degree  woman   \n",
       "772                   2_-_4_years                      master's_degree  woman   \n",
       "997                   2_-_4_years                       college_degree  woman   \n",
       "1908               1_year_or_less                      master's_degree  woman   \n",
       "\n",
       "       race  \n",
       "748   white  \n",
       "762   white  \n",
       "772   white  \n",
       "997   white  \n",
       "1908  white  "
      ]
     },
     "execution_count": 25,
     "metadata": {},
     "output_type": "execute_result"
    }
   ],
   "source": [
    "mismatched_currencies = df_raw[df_raw.currency_other != df_raw.currency] #Looking at this mostly misused\n",
    "mismatched_currencies.head() #Can safely use just currency for everything"
   ]
  },
  {
   "cell_type": "code",
   "execution_count": 26,
   "id": "c7d4941b",
   "metadata": {},
   "outputs": [
    {
     "name": "stderr",
     "output_type": "stream",
     "text": [
      "/var/folders/ks/w_gw7dpd45xfmd1xm4cbg94r0000gn/T/ipykernel_11659/1994998830.py:2: FutureWarning: The default value of regex will change from True to False in a future version.\n",
      "  df_raw.state = df_raw.state.str.replace(',_*','')\n"
     ]
    },
    {
     "data": {
      "text/plain": [
       "na                       4554\n",
       "california               2429\n",
       "new_york                 2038\n",
       "massachusetts            1454\n",
       "texas                    1169\n",
       "                         ... \n",
       "nevadaoregon                1\n",
       "new_jerseyvirginia          1\n",
       "montanawyoming              1\n",
       "coloradomassachusetts       1\n",
       "oregonwashington            1\n",
       "Name: state, Length: 125, dtype: int64"
      ]
     },
     "execution_count": 26,
     "metadata": {},
     "output_type": "execute_result"
    }
   ],
   "source": [
    "df_raw.state = df_raw.state.fillna('na')\n",
    "df_raw.state = df_raw.state.str.replace(',_*','')\n",
    "df_raw.state.value_counts()"
   ]
  },
  {
   "cell_type": "code",
   "execution_count": 27,
   "id": "2f6dd45b",
   "metadata": {},
   "outputs": [
    {
     "name": "stderr",
     "output_type": "stream",
     "text": [
      "/var/folders/ks/w_gw7dpd45xfmd1xm4cbg94r0000gn/T/ipykernel_11659/1114913992.py:2: FutureWarning: The default value of regex will change from True to False in a future version.\n",
      "  df_raw.city = df_raw.city.str.replace(',_*','')\n",
      "/var/folders/ks/w_gw7dpd45xfmd1xm4cbg94r0000gn/T/ipykernel_11659/1114913992.py:4: SettingWithCopyWarning: \n",
      "A value is trying to be set on a copy of a slice from a DataFrame\n",
      "\n",
      "See the caveats in the documentation: https://pandas.pydata.org/pandas-docs/stable/user_guide/indexing.html#returning-a-view-versus-a-copy\n",
      "  df_raw.city[ df_raw.city.isin(single_represented_cities) ] = 'singular_represented_city'\n"
     ]
    },
    {
     "data": {
      "text/plain": [
       "singular_represented_city    2295\n",
       "boston                        802\n",
       "new_york                      774\n",
       "chicago                       773\n",
       "seattle                       702\n",
       "                             ... \n",
       "nashville_metro_area            2\n",
       "torontoon                       2\n",
       "chicago_metro                   2\n",
       "clevelandohio                   2\n",
       "nairobi                         2\n",
       "Name: city, Length: 1357, dtype: int64"
      ]
     },
     "execution_count": 27,
     "metadata": {},
     "output_type": "execute_result"
    }
   ],
   "source": [
    "df_raw.city = df_raw.city.fillna('none_supplied')\n",
    "df_raw.city = df_raw.city.str.replace(',_*','')\n",
    "single_represented_cities = df_raw.city.value_counts()[df_raw.city.value_counts() == 1].index.to_list()\n",
    "df_raw.city[ df_raw.city.isin(single_represented_cities) ] = 'singular_represented_city'\n",
    "df_raw.city.value_counts()"
   ]
  },
  {
   "cell_type": "code",
   "execution_count": 28,
   "id": "cbff93f7",
   "metadata": {
    "scrolled": true
   },
   "outputs": [
    {
     "data": {
      "text/plain": [
       "white                                                                                                                            21802\n",
       "asian_or_asian_american                                                                                                           1182\n",
       "another_option_not_listed_here_or_prefer_not_to_answer                                                                             695\n",
       "black_or_african_american                                                                                                          613\n",
       "hispanic,_latino,_or_spanish_origin                                                                                                511\n",
       "hispanic,_latino,_or_spanish_origin,_white                                                                                         344\n",
       "asian_or_asian_american,_white                                                                                                     326\n",
       "black_or_african_american,_white                                                                                                   121\n",
       "middle_eastern_or_northern_african,_white                                                                                           71\n",
       "native_american_or_alaska_native,_white                                                                                             64\n",
       "white,_another_option_not_listed_here_or_prefer_not_to_answer                                                                       60\n",
       "middle_eastern_or_northern_african                                                                                                  58\n",
       "native_american_or_alaska_native                                                                                                    39\n",
       "black_or_african_american,_hispanic,_latino,_or_spanish_origin                                                                      26\n",
       "asian_or_asian_american,_hispanic,_latino,_or_spanish_origin                                                                        11\n",
       "asian_or_asian_american,_hispanic,_latino,_or_spanish_origin,_white                                                                 11\n",
       "asian_or_asian_american,_another_option_not_listed_here_or_prefer_not_to_answer                                                     10\n",
       "hispanic,_latino,_or_spanish_origin,_native_american_or_alaska_native,_white                                                         9\n",
       "black_or_african_american,_hispanic,_latino,_or_spanish_origin,_white                                                                9\n",
       "hispanic,_latino,_or_spanish_origin,_native_american_or_alaska_native                                                                9\n",
       "asian_or_asian_american,_middle_eastern_or_northern_african                                                                          7\n",
       "asian_or_asian_american,_black_or_african_american                                                                                   7\n",
       "hispanic,_latino,_or_spanish_origin,_another_option_not_listed_here_or_prefer_not_to_answer                                          6\n",
       "asian_or_asian_american,_white,_another_option_not_listed_here_or_prefer_not_to_answer                                               6\n",
       "asian_or_asian_american,_black_or_african_american,_white                                                                            5\n",
       "black_or_african_american,_native_american_or_alaska_native,_white                                                                   5\n",
       "black_or_african_american,_middle_eastern_or_northern_african,_white                                                                 4\n",
       "hispanic,_latino,_or_spanish_origin,_middle_eastern_or_northern_african,_white                                                       4\n",
       "black_or_african_american,_hispanic,_latino,_or_spanish_origin,_native_american_or_alaska_native,_white                              3\n",
       "asian_or_asian_american,_native_american_or_alaska_native,_white                                                                     2\n",
       "black_or_african_american,_another_option_not_listed_here_or_prefer_not_to_answer                                                    2\n",
       "black_or_african_american,_middle_eastern_or_northern_african                                                                        2\n",
       "middle_eastern_or_northern_african,_white,_another_option_not_listed_here_or_prefer_not_to_answer                                    2\n",
       "asian_or_asian_american,_black_or_african_american,_native_american_or_alaska_native,_white                                          1\n",
       "asian_or_asian_american,_native_american_or_alaska_native                                                                            1\n",
       "middle_eastern_or_northern_african,_native_american_or_alaska_native                                                                 1\n",
       "hispanic,_latino,_or_spanish_origin,_native_american_or_alaska_native,_another_option_not_listed_here_or_prefer_not_to_answer        1\n",
       "asian_or_asian_american,_middle_eastern_or_northern_african,_white                                                                   1\n",
       "middle_eastern_or_northern_african,_native_american_or_alaska_native,_white                                                          1\n",
       "native_american_or_alaska_native,_white,_another_option_not_listed_here_or_prefer_not_to_answer                                      1\n",
       "asian_or_asian_american,_black_or_african_american,_hispanic,_latino,_or_spanish_origin                                              1\n",
       "hispanic,_latino,_or_spanish_origin,_white,_another_option_not_listed_here_or_prefer_not_to_answer                                   1\n",
       "hispanic,_latino,_or_spanish_origin,_middle_eastern_or_northern_african                                                              1\n",
       "asian_or_asian_american,_hispanic,_latino,_or_spanish_origin,_native_american_or_alaska_native,_white                                1\n",
       "native_american_or_alaska_native,_another_option_not_listed_here_or_prefer_not_to_answer                                             1\n",
       "black_or_african_american,_middle_eastern_or_northern_african,_native_american_or_alaska_native,_white                               1\n",
       "asian_or_asian_american,_hispanic,_latino,_or_spanish_origin,_another_option_not_listed_here_or_prefer_not_to_answer                 1\n",
       "Name: race, dtype: int64"
      ]
     },
     "execution_count": 28,
     "metadata": {},
     "output_type": "execute_result"
    }
   ],
   "source": [
    "df_raw.race = df_raw.race.fillna('another_option_not_listed_here_or_prefer_not_to_answer')\n",
    "df_raw.race.value_counts()"
   ]
  },
  {
   "cell_type": "code",
   "execution_count": 29,
   "id": "67948729",
   "metadata": {},
   "outputs": [],
   "source": [
    "# Convert currency to USD, as it's a small list just google exchange rates and apply dictionary map, and they won't be that out of date either\n",
    "df_currency = pd.DataFrame({\n",
    "    'CAD'     : 0.81\n",
    ",   'GBP'     : 1.37\n",
    ",   'EUR'     : 1.16\n",
    ",   'AUD/NZD' : 0.74 #Rough average\n",
    ",   'CHF'     : 1.10\n",
    ",   'SEK'     : 0.12\n",
    ",   'JPY'     : 0.0088\n",
    ",   'ZAR'     : 0.065\n",
    ",   'HKD'     : 0.13\n",
    "}.items(),columns=['currency','exchange_rate'])\n",
    "df_currency.currency = df_currency.currency.str.lower()\n",
    "\n",
    "df = df_raw.merge(df_currency,on='currency')\n",
    "df['renumeration'] = df.annual_salary + df.other_monetary_comp\n",
    "df['renumeration']        = df['renumeration'] * df['exchange_rate']\n",
    "df['annual_salary']       = df['annual_salary'] * df['exchange_rate']\n",
    "df['other_monetary_comp'] = df['other_monetary_comp'] * df['exchange_rate']"
   ]
  },
  {
   "cell_type": "code",
   "execution_count": 30,
   "id": "bd745bfd",
   "metadata": {},
   "outputs": [],
   "source": [
    "del df['timestamp']\n",
    "del df['currency']\n",
    "del df['currency_other']\n",
    "del df['additional_context_on_job_title']\n",
    "del df['additional_context_on_income']\n",
    "del df['exchange_rate']"
   ]
  },
  {
   "cell_type": "code",
   "execution_count": 31,
   "id": "5cadf13d",
   "metadata": {},
   "outputs": [
    {
     "data": {
      "text/plain": [
       "how_old_are_you                             0\n",
       "industry                                    0\n",
       "job_title                                   0\n",
       "annual_salary                               0\n",
       "other_monetary_comp                         0\n",
       "country                                     0\n",
       "state                                       0\n",
       "city                                        0\n",
       "overall_years_of_professional_experience    0\n",
       "years_of_experience_in_field                0\n",
       "highest_level_of_education_completed        0\n",
       "gender                                      0\n",
       "race                                        0\n",
       "renumeration                                0\n",
       "dtype: int64"
      ]
     },
     "execution_count": 31,
     "metadata": {},
     "output_type": "execute_result"
    }
   ],
   "source": [
    "categorical_columns = df.columns[df.dtypes=='object' ].values\n",
    "numerical_columns   = df.columns[df.dtypes=='float64'].values\n",
    "df.isnull().sum()"
   ]
  },
  {
   "cell_type": "markdown",
   "id": "317bca6d",
   "metadata": {},
   "source": [
    "## Feature Importance\n",
    "\n",
    "As all our non-target variables are presented as categorical variables, before training we use mutual_info_score, using whether one is top 50% income, however we will get a better idea with training in model selection later"
   ]
  },
  {
   "cell_type": "code",
   "execution_count": 32,
   "id": "0913d33d",
   "metadata": {},
   "outputs": [
    {
     "data": {
      "text/plain": [
       "job_title                                   0.240\n",
       "city                                        0.086\n",
       "years_of_experience_in_field                0.068\n",
       "industry                                    0.064\n",
       "overall_years_of_professional_experience    0.041\n",
       "how_old_are_you                             0.040\n",
       "country                                     0.038\n",
       "gender                                      0.022\n",
       "highest_level_of_education_completed        0.011\n",
       "race                                        0.003\n",
       "state                                       0.001\n",
       "dtype: float64"
      ]
     },
     "execution_count": 32,
     "metadata": {},
     "output_type": "execute_result"
    }
   ],
   "source": [
    "mutual_info_renumeration_score = partial(mutual_info_score,df.renumeration > np.median(df.renumeration))\n",
    "df[categorical_columns].apply(mutual_info_renumeration_score).round(3).sort_values(ascending=False)"
   ]
  },
  {
   "cell_type": "markdown",
   "id": "efc3a7c7",
   "metadata": {},
   "source": [
    "Job title is by far the most important element followed by city, years of experience in the field and industry. Neither state nor race were measurably important."
   ]
  },
  {
   "cell_type": "code",
   "execution_count": 33,
   "id": "b2de2761",
   "metadata": {
    "scrolled": true
   },
   "outputs": [
    {
     "data": {
      "text/plain": [
       "<AxesSubplot:xlabel='y', ylabel='x'>"
      ]
     },
     "execution_count": 33,
     "metadata": {},
     "output_type": "execute_result"
    },
    {
     "data": {
      "image/png": "[encoded data removed]",
      "text/plain": [
       "<Figure size 432x288 with 2 Axes>"
      ]
     },
     "metadata": {
      "needs_background": "light"
     },
     "output_type": "display_data"
    }
   ],
   "source": [
    "df_mi = pd.DataFrame([{'x':c1, 'y':c2, 'mi':mutual_info_score(df[c1],df[c2])} for c1 in categorical_columns for c2 in categorical_columns ])\n",
    "df_table = df_mi.pivot(index='x', columns='y', values='mi')\n",
    "sns.heatmap(df_table)"
   ]
  },
  {
   "cell_type": "markdown",
   "id": "68ab00a2",
   "metadata": {},
   "source": [
    "Very expected results for mutual information between the categorical variables. Yes job title and industry are related, who would have guessed, also city and country are related and job title and years of experience is related. Interestingly job title and city is related."
   ]
  },
  {
   "cell_type": "markdown",
   "id": "bbef435c",
   "metadata": {},
   "source": [
    "### Take away\n",
    "\n",
    "We will remove state and race from the data frame, as it doesn't contain mutual information with the variable of interest"
   ]
  },
  {
   "cell_type": "code",
   "execution_count": 34,
   "id": "bf69dfde",
   "metadata": {},
   "outputs": [],
   "source": [
    "del df['state']\n",
    "del df['race']\n",
    "\n",
    "categorical_columns = df.columns[df.dtypes=='object' ].values\n",
    "numerical_columns   = df.columns[df.dtypes=='float64'].values"
   ]
  },
  {
   "cell_type": "markdown",
   "id": "35438681",
   "metadata": {},
   "source": [
    "# Model Selection\n",
    "\n",
    "We wish to compare random forrest and XGBoost to each other and determine one we'd like to use to fit price\n",
    "\n",
    "## Setup training sets"
   ]
  },
  {
   "cell_type": "code",
   "execution_count": 35,
   "id": "410aefe6",
   "metadata": {},
   "outputs": [
    {
     "data": {
      "text/plain": [
       "['city=-',\n",
       " 'city=--',\n",
       " 'city=a_coruña',\n",
       " 'city=abbotsford',\n",
       " 'city=aberdeen',\n",
       " 'city=adelaide',\n",
       " 'city=adelaidesouth_australia',\n",
       " 'city=alberta',\n",
       " 'city=alton',\n",
       " 'city=amsterdam',\n",
       " 'city=antwerp',\n",
       " 'city=athens',\n",
       " 'city=auckland',\n",
       " 'city=barcelona',\n",
       " 'city=barrie',\n",
       " 'city=basel',\n",
       " 'city=basingstoke',\n",
       " 'city=bath',\n",
       " 'city=bc',\n",
       " 'city=bedford',\n",
       " 'city=belfast',\n",
       " 'city=berlin',\n",
       " 'city=birmingham',\n",
       " 'city=birmingham_uk',\n",
       " 'city=birminghamengland',\n",
       " 'city=birminghamuk',\n",
       " 'city=blackpool',\n",
       " 'city=bonn',\n",
       " 'city=bordeaux',\n",
       " 'city=bournemouth',\n",
       " 'city=bowmanville',\n",
       " 'city=bradford',\n",
       " 'city=brampton',\n",
       " 'city=brantford',\n",
       " 'city=braunschweig',\n",
       " 'city=brighton',\n",
       " 'city=brisbane',\n",
       " 'city=bristol',\n",
       " 'city=british_columbia',\n",
       " 'city=brockville',\n",
       " 'city=brussels',\n",
       " 'city=buckinghamshire',\n",
       " 'city=burlington',\n",
       " 'city=byron_bay',\n",
       " 'city=calgary',\n",
       " 'city=calgaryab',\n",
       " 'city=calgaryalberta',\n",
       " 'city=cambridge',\n",
       " 'city=cambridgeontario',\n",
       " 'city=cambridgeuk',\n",
       " 'city=campbell_river',\n",
       " 'city=canada',\n",
       " 'city=canberra',\n",
       " 'city=cape_town',\n",
       " 'city=cardiff',\n",
       " 'city=carlisle',\n",
       " 'city=charlottetown',\n",
       " 'city=chelmsford',\n",
       " 'city=cheltenham',\n",
       " 'city=cheshire',\n",
       " 'city=chester',\n",
       " 'city=chilliwack',\n",
       " 'city=christchurch',\n",
       " 'city=cincinnati',\n",
       " 'city=city',\n",
       " 'city=cologne',\n",
       " 'city=copenhagen',\n",
       " 'city=cork',\n",
       " 'city=coventry',\n",
       " 'city=crawley',\n",
       " 'city=croydon',\n",
       " 'city=darmstadt',\n",
       " 'city=delft',\n",
       " 'city=dublin',\n",
       " 'city=dundee',\n",
       " 'city=dunedin',\n",
       " 'city=durham',\n",
       " 'city=düsseldorf',\n",
       " 'city=edinburgh',\n",
       " 'city=edmonton',\n",
       " 'city=edmontonalberta',\n",
       " 'city=eindhoven',\n",
       " 'city=essex',\n",
       " 'city=exeter',\n",
       " 'city=florence',\n",
       " 'city=fort_mcmurray',\n",
       " 'city=frankfurt',\n",
       " 'city=fredericton',\n",
       " 'city=galway',\n",
       " 'city=geelong',\n",
       " 'city=geneva',\n",
       " 'city=gent',\n",
       " 'city=germany',\n",
       " 'city=glasgow',\n",
       " 'city=gloucester',\n",
       " 'city=gold_coast',\n",
       " 'city=gothenburg',\n",
       " 'city=greater_london',\n",
       " 'city=greater_toronto_area',\n",
       " 'city=gta',\n",
       " 'city=guelph',\n",
       " 'city=guildford',\n",
       " 'city=göttingen',\n",
       " 'city=halifax',\n",
       " 'city=halifaxnova_scotia',\n",
       " 'city=halifaxns',\n",
       " 'city=hamburg',\n",
       " 'city=hamilton',\n",
       " 'city=hamiltonon',\n",
       " 'city=hamiltonontario',\n",
       " 'city=hanover',\n",
       " 'city=hatfield',\n",
       " 'city=heilbronn',\n",
       " 'city=helsinki',\n",
       " 'city=herne',\n",
       " 'city=hobart',\n",
       " 'city=home_based',\n",
       " 'city=hong_kong',\n",
       " 'city=houston',\n",
       " 'city=huddersfield',\n",
       " 'city=hull',\n",
       " 'city=huntingdon',\n",
       " 'city=huntsville',\n",
       " 'city=ingolstadt',\n",
       " 'city=ipswich',\n",
       " 'city=ireland',\n",
       " 'city=johannesburg',\n",
       " 'city=kassel',\n",
       " 'city=kelowna',\n",
       " 'city=kelownabc',\n",
       " 'city=kensington',\n",
       " 'city=kent',\n",
       " 'city=kingston',\n",
       " 'city=kitchener',\n",
       " 'city=kitcheneron',\n",
       " 'city=kitchenerontario',\n",
       " 'city=lancaster',\n",
       " 'city=launceston',\n",
       " 'city=lausanne',\n",
       " 'city=leamington_spa',\n",
       " 'city=leeds',\n",
       " 'city=leedsuk',\n",
       " 'city=leicester',\n",
       " 'city=leiden',\n",
       " 'city=lethbridge',\n",
       " 'city=leuven',\n",
       " 'city=lincoln',\n",
       " 'city=lisbon',\n",
       " 'city=liverpool',\n",
       " 'city=london',\n",
       " 'city=london_/_remote',\n",
       " 'city=londonon',\n",
       " 'city=londonontario',\n",
       " 'city=londonuk',\n",
       " 'city=los_angeles',\n",
       " 'city=loughborough',\n",
       " 'city=lower_mainland',\n",
       " 'city=lund',\n",
       " 'city=luton',\n",
       " 'city=luxembourg',\n",
       " 'city=lyon',\n",
       " 'city=mackay',\n",
       " 'city=madrid',\n",
       " 'city=manchester',\n",
       " 'city=manchesteruk',\n",
       " 'city=many',\n",
       " 'city=markham',\n",
       " 'city=melbourne',\n",
       " 'city=milan',\n",
       " 'city=milton_keynes',\n",
       " 'city=mississauga',\n",
       " 'city=moncton',\n",
       " 'city=montreal',\n",
       " 'city=montrealqc',\n",
       " 'city=montréal',\n",
       " 'city=munich',\n",
       " 'city=n/a',\n",
       " 'city=na',\n",
       " 'city=nanaimo',\n",
       " 'city=new_plymouth',\n",
       " 'city=newcastle',\n",
       " 'city=newcastle-upon-tyne',\n",
       " 'city=newcastle_nsw',\n",
       " 'city=newcastle_upon_tyne',\n",
       " 'city=newcastleuk',\n",
       " 'city=newport',\n",
       " 'city=niagara_falls',\n",
       " 'city=none',\n",
       " 'city=none_supplied',\n",
       " 'city=nope',\n",
       " 'city=norfolk',\n",
       " 'city=north_bay',\n",
       " 'city=northampton',\n",
       " 'city=northern_ontario',\n",
       " 'city=norwich',\n",
       " 'city=nottingham',\n",
       " 'city=nova_scotia',\n",
       " 'city=nuremberg',\n",
       " 'city=nyc',\n",
       " 'city=nürnberg',\n",
       " 'city=oakville',\n",
       " 'city=ontario',\n",
       " 'city=orlando',\n",
       " 'city=osaka',\n",
       " 'city=oslo',\n",
       " 'city=other',\n",
       " 'city=ottawa',\n",
       " 'city=ottawaontario',\n",
       " 'city=oxford',\n",
       " 'city=oxfordshire',\n",
       " 'city=paris',\n",
       " 'city=perth',\n",
       " 'city=perthwestern_australia',\n",
       " 'city=peterborough',\n",
       " 'city=plymouth',\n",
       " 'city=portsmouth',\n",
       " 'city=prefer_not_to_answer',\n",
       " 'city=prefer_not_to_say',\n",
       " 'city=preston',\n",
       " 'city=prince_george',\n",
       " 'city=province',\n",
       " 'city=quebec_city',\n",
       " 'city=queensland',\n",
       " 'city=reading',\n",
       " 'city=readinguk',\n",
       " 'city=regina',\n",
       " 'city=regional',\n",
       " 'city=reims',\n",
       " 'city=remote',\n",
       " 'city=remote_worker',\n",
       " 'city=richmond',\n",
       " 'city=riga',\n",
       " 'city=ripon',\n",
       " 'city=rotterdam',\n",
       " 'city=rural',\n",
       " 'city=rural_ontario',\n",
       " 'city=salt_lake_city',\n",
       " 'city=saskatoon',\n",
       " 'city=sheffield',\n",
       " 'city=singular_represented_city',\n",
       " 'city=sligo',\n",
       " 'city=small_town',\n",
       " 'city=sofia',\n",
       " 'city=somerset',\n",
       " 'city=south_east_england',\n",
       " 'city=southampton',\n",
       " 'city=st._catharines',\n",
       " \"city=st._john's\",\n",
       " 'city=st._john’s',\n",
       " 'city=st_albans',\n",
       " 'city=stafford',\n",
       " 'city=stockholm',\n",
       " 'city=strasbourg',\n",
       " 'city=stratford',\n",
       " 'city=stratford_upon_avon',\n",
       " 'city=stuttgart',\n",
       " 'city=sudbury',\n",
       " 'city=sunderland',\n",
       " 'city=surrey',\n",
       " 'city=sussex',\n",
       " 'city=swansea',\n",
       " 'city=swindon',\n",
       " 'city=sydney',\n",
       " 'city=sydneyaustralia',\n",
       " 'city=tallinn',\n",
       " 'city=the_hague',\n",
       " 'city=thessaloniki',\n",
       " 'city=thunder_bay',\n",
       " 'city=tokyo',\n",
       " 'city=toronto',\n",
       " 'city=torontoon',\n",
       " 'city=torontoontario',\n",
       " 'city=townsville',\n",
       " 'city=truro',\n",
       " 'city=tunbridge_wells',\n",
       " 'city=turku',\n",
       " 'city=uk',\n",
       " 'city=ulm',\n",
       " 'city=uppsala',\n",
       " 'city=utrecht',\n",
       " 'city=valencia',\n",
       " 'city=vancouver',\n",
       " 'city=vancouver_bc',\n",
       " 'city=vancouver_island',\n",
       " 'city=vancouverbc',\n",
       " 'city=vancouverbritish_columbia',\n",
       " 'city=various',\n",
       " 'city=vernon',\n",
       " 'city=verona',\n",
       " 'city=victoria',\n",
       " 'city=victoria_bc',\n",
       " 'city=victoriabc',\n",
       " 'city=vienna',\n",
       " 'city=vilnius',\n",
       " 'city=virtual',\n",
       " 'city=wakefield',\n",
       " 'city=warwick',\n",
       " 'city=washington',\n",
       " 'city=waterford',\n",
       " 'city=waterloo',\n",
       " 'city=waterlooontario',\n",
       " 'city=wellington',\n",
       " 'city=wells',\n",
       " 'city=western_canada',\n",
       " 'city=weymouth',\n",
       " 'city=wfh',\n",
       " 'city=whitehorse',\n",
       " 'city=winchester',\n",
       " 'city=windsor',\n",
       " 'city=winnipeg',\n",
       " 'city=woodstock',\n",
       " 'city=worcester',\n",
       " 'city=work_from_home',\n",
       " 'city=yellowknife',\n",
       " 'city=york',\n",
       " 'city=zurich',\n",
       " 'city=zwolle',\n",
       " 'city=zürich',\n",
       " 'country=$2,175.84/year_is_deducted_for_benefits',\n",
       " 'country=afghanistan',\n",
       " 'country=australi',\n",
       " 'country=australia',\n",
       " 'country=austria',\n",
       " 'country=austria,_but_i_work_remotely_for_a_dutch/british_company',\n",
       " 'country=belgium',\n",
       " 'country=britain',\n",
       " 'country=bulgaria',\n",
       " 'country=can',\n",
       " 'country=canad',\n",
       " 'country=canada',\n",
       " 'country=canada_and_usa',\n",
       " 'country=canadw',\n",
       " 'country=canda',\n",
       " 'country=catalonia',\n",
       " 'country=china',\n",
       " 'country=congo',\n",
       " 'country=croatia',\n",
       " 'country=csnada',\n",
       " 'country=denmark',\n",
       " 'country=england',\n",
       " 'country=england,_uk',\n",
       " 'country=england,_united_kingdom',\n",
       " 'country=england/uk',\n",
       " 'country=englang',\n",
       " 'country=estonia',\n",
       " 'country=europe',\n",
       " 'country=finland',\n",
       " 'country=france',\n",
       " 'country=from_new_zealand_but_on_projects_across_apac',\n",
       " 'country=germany',\n",
       " 'country=global',\n",
       " 'country=great_britain',\n",
       " 'country=greece',\n",
       " 'country=hong_kong',\n",
       " 'country=hungary',\n",
       " 'country=india',\n",
       " 'country=ireland',\n",
       " 'country=isle_of_man',\n",
       " 'country=italy',\n",
       " 'country=italy_(south)',\n",
       " 'country=japan',\n",
       " 'country=jersey,_channel_islands',\n",
       " 'country=latvia',\n",
       " 'country=lithuania',\n",
       " 'country=luxembourg',\n",
       " 'country=luxemburg',\n",
       " 'country=malta',\n",
       " 'country=n/a_(remote_from_wherever_i_want)',\n",
       " 'country=nederland',\n",
       " 'country=netherlands',\n",
       " 'country=new_zealand',\n",
       " 'country=new_zealand_aotearoa',\n",
       " 'country=nl',\n",
       " 'country=northern_ireland',\n",
       " 'country=northern_ireland,_united_kingdom',\n",
       " 'country=norway',\n",
       " 'country=nz',\n",
       " 'country=portugal',\n",
       " 'country=remote',\n",
       " 'country=romania',\n",
       " 'country=scotland',\n",
       " 'country=scotland,_uk',\n",
       " 'country=serbia',\n",
       " 'country=slovakia',\n",
       " 'country=slovenia',\n",
       " 'country=south_africa',\n",
       " 'country=spain',\n",
       " 'country=sweden',\n",
       " 'country=switzerland',\n",
       " 'country=the_netherlands',\n",
       " 'country=u.k',\n",
       " 'country=u.k._(northern_england)',\n",
       " 'country=uk,_but_for_globally_fully_remote_company',\n",
       " 'country=uk,_remote',\n",
       " 'country=uk_(northern_ireland)',\n",
       " 'country=uk_for_u.s._company',\n",
       " 'country=united_kingdom',\n",
       " 'country=united_kingdom.',\n",
       " 'country=united_kingdomk',\n",
       " 'country=united_states',\n",
       " 'country=unites_kingdom',\n",
       " 'country=wales',\n",
       " 'country=wales,_uk',\n",
       " 'country=wales_(uk)',\n",
       " 'gender=man',\n",
       " 'gender=non-binary',\n",
       " 'gender=other_or_prefer_not_to_answer',\n",
       " 'gender=woman',\n",
       " 'highest_level_of_education_completed=None',\n",
       " 'highest_level_of_education_completed=college_degree',\n",
       " 'highest_level_of_education_completed=high_school',\n",
       " \"highest_level_of_education_completed=master's_degree\",\n",
       " 'highest_level_of_education_completed=phd',\n",
       " 'highest_level_of_education_completed=professional_degree_(md,_jd,_etc.)',\n",
       " 'highest_level_of_education_completed=some_college',\n",
       " 'how_old_are_you=18-24',\n",
       " 'how_old_are_you=25-34',\n",
       " 'how_old_are_you=35-44',\n",
       " 'how_old_are_you=45-54',\n",
       " 'how_old_are_you=55-64',\n",
       " 'how_old_are_you=65_or_over',\n",
       " 'how_old_are_you=under_18',\n",
       " 'industry=academia',\n",
       " 'industry=academic_publishing',\n",
       " 'industry=academic_research',\n",
       " 'industry=academic_science',\n",
       " 'industry=accounting,_banking_&_finance',\n",
       " 'industry=aerospace/aviation',\n",
       " 'industry=agriculture_or_forestry',\n",
       " 'industry=architecture',\n",
       " 'industry=archives',\n",
       " 'industry=art_&_design',\n",
       " 'industry=automotive',\n",
       " 'industry=aviation',\n",
       " 'industry=beauty',\n",
       " 'industry=biological_research',\n",
       " 'industry=biotech',\n",
       " 'industry=biotechnology',\n",
       " 'industry=business_or_consulting',\n",
       " 'industry=business_process_outsourcing',\n",
       " 'industry=cannabis',\n",
       " 'industry=childcare',\n",
       " 'industry=communications',\n",
       " 'industry=computing_or_tech',\n",
       " 'industry=construction',\n",
       " 'industry=consumer_goods',\n",
       " 'industry=consumer_packaged_goods',\n",
       " 'industry=customer_service',\n",
       " 'industry=defense',\n",
       " 'industry=e-commerce',\n",
       " 'industry=education_(higher_education)',\n",
       " 'industry=education_(primary/secondary)',\n",
       " 'industry=educational_publishing',\n",
       " 'industry=energy',\n",
       " 'industry=engineering_or_manufacturing',\n",
       " 'industry=entertainment',\n",
       " 'industry=environment',\n",
       " 'industry=environmental',\n",
       " 'industry=environmental_consulting',\n",
       " 'industry=environmental_science',\n",
       " 'industry=finance',\n",
       " 'industry=food',\n",
       " 'industry=food_and_beverage',\n",
       " 'industry=food_distribution',\n",
       " 'industry=food_processing',\n",
       " 'industry=food_production',\n",
       " 'industry=government_and_public_administration',\n",
       " 'industry=health_care',\n",
       " 'industry=heritage',\n",
       " 'industry=hospitality_&_events',\n",
       " 'industry=insurance',\n",
       " 'industry=internet',\n",
       " 'industry=journalism',\n",
       " 'industry=law',\n",
       " 'industry=law_enforcement_&_security',\n",
       " 'industry=legal_services',\n",
       " 'industry=leisure,_sport_&_tourism',\n",
       " 'industry=libraries',\n",
       " 'industry=libraries_and_archives',\n",
       " 'industry=library',\n",
       " 'industry=life_sciences',\n",
       " 'industry=manufacturing',\n",
       " 'industry=market_research',\n",
       " 'industry=marketing,_advertising_&_pr',\n",
       " 'industry=media_&_digital',\n",
       " 'industry=medical_research',\n",
       " 'industry=mining',\n",
       " 'industry=museum',\n",
       " 'industry=nonprofits',\n",
       " 'industry=oil_&_gas',\n",
       " 'industry=oil_and_gas',\n",
       " 'industry=other',\n",
       " 'industry=pharma',\n",
       " 'industry=pharmaceutical',\n",
       " 'industry=pharmaceutical_research',\n",
       " 'industry=pharmaceuticals',\n",
       " 'industry=procurement',\n",
       " 'industry=property_or_construction',\n",
       " 'industry=public_health',\n",
       " 'industry=public_libraries',\n",
       " 'industry=public_library',\n",
       " 'industry=publishing',\n",
       " 'industry=real_estate',\n",
       " 'industry=real_estate_development',\n",
       " 'industry=recruitment_or_hr',\n",
       " 'industry=research',\n",
       " 'industry=research_&_development',\n",
       " 'industry=research_institute',\n",
       " 'industry=research_science',\n",
       " 'industry=restaurant',\n",
       " 'industry=retail',\n",
       " 'industry=sales',\n",
       " 'industry=science',\n",
       " 'industry=science_research',\n",
       " 'industry=scientific_research',\n",
       " 'industry=social_work',\n",
       " 'industry=stem_research',\n",
       " 'industry=training',\n",
       " 'industry=translation',\n",
       " 'industry=transport_or_logistics',\n",
       " 'industry=travel',\n",
       " 'industry=urban_planning',\n",
       " 'industry=utilities_&_telecommunications',\n",
       " 'industry=veterinary',\n",
       " 'industry=video_games',\n",
       " 'job_title=3d_artist',\n",
       " 'job_title=academic_advisor',\n",
       " 'job_title=academic_librarian',\n",
       " 'job_title=account_director',\n",
       " 'job_title=account_executive',\n",
       " 'job_title=account_manager',\n",
       " 'job_title=account_representative',\n",
       " 'job_title=account_specialist',\n",
       " 'job_title=accountant',\n",
       " 'job_title=accounting',\n",
       " 'job_title=accounting_analyst',\n",
       " 'job_title=accounting_assistant',\n",
       " 'job_title=accounting_clerk',\n",
       " 'job_title=accounting_manager',\n",
       " 'job_title=accounts_manager',\n",
       " 'job_title=accounts_payable_supervisor',\n",
       " 'job_title=accounts_receivable',\n",
       " 'job_title=actuarial_analyst',\n",
       " 'job_title=actuary',\n",
       " 'job_title=adjunct_instructor',\n",
       " 'job_title=adjuster',\n",
       " 'job_title=admin',\n",
       " 'job_title=admin_assistant',\n",
       " 'job_title=admin_manager',\n",
       " 'job_title=admin_support',\n",
       " 'job_title=administration_manager',\n",
       " 'job_title=administrative_assistant',\n",
       " 'job_title=administrative_associate',\n",
       " 'job_title=administrative_coordinator',\n",
       " 'job_title=administrative_officer',\n",
       " 'job_title=administrative_specialist',\n",
       " 'job_title=administrative_support',\n",
       " 'job_title=administrator',\n",
       " 'job_title=advisor',\n",
       " 'job_title=affiliate_account_manager',\n",
       " 'job_title=agile_coach',\n",
       " 'job_title=alumni_relations_coordinator',\n",
       " 'job_title=alumni_relations_officer',\n",
       " 'job_title=analyst',\n",
       " 'job_title=analytics_manager',\n",
       " 'job_title=application_consultant',\n",
       " 'job_title=application_developer',\n",
       " 'job_title=application_development_analyst',\n",
       " 'job_title=applications_engineer',\n",
       " 'job_title=architect',\n",
       " 'job_title=architectural_designer',\n",
       " 'job_title=architectural_technologist',\n",
       " 'job_title=archives_assistant',\n",
       " 'job_title=archivist',\n",
       " 'job_title=art_director',\n",
       " 'job_title=articling_student',\n",
       " 'job_title=asset_manager',\n",
       " 'job_title=assistant',\n",
       " 'job_title=assistant_auditor',\n",
       " 'job_title=assistant_controller',\n",
       " 'job_title=assistant_director',\n",
       " 'job_title=assistant_director_of_finance',\n",
       " 'job_title=assistant_editor',\n",
       " 'job_title=assistant_librarian',\n",
       " 'job_title=assistant_manager',\n",
       " 'job_title=assistant_principal',\n",
       " 'job_title=assistant_professor',\n",
       " 'job_title=assistant_project_manager',\n",
       " 'job_title=assistant_service_manager',\n",
       " 'job_title=assistant_store_manager',\n",
       " 'job_title=assistant_winemaker',\n",
       " 'job_title=associate',\n",
       " 'job_title=associate_archivist',\n",
       " 'job_title=associate_consultant',\n",
       " 'job_title=associate_creative_director',\n",
       " 'job_title=associate_dean',\n",
       " 'job_title=associate_director',\n",
       " 'job_title=associate_director,_marketing',\n",
       " 'job_title=associate_editor',\n",
       " 'job_title=associate_engineer',\n",
       " 'job_title=associate_lawyer',\n",
       " 'job_title=associate_librarian',\n",
       " 'job_title=associate_partner',\n",
       " 'job_title=associate_professor',\n",
       " 'job_title=associate_strategy_director',\n",
       " 'job_title=audit_associate',\n",
       " 'job_title=audit_senior_manager',\n",
       " 'job_title=audit_trainee',\n",
       " 'job_title=auditor',\n",
       " 'job_title=baker',\n",
       " 'job_title=barista',\n",
       " 'job_title=benefits_administrator',\n",
       " 'job_title=benefits_advisor',\n",
       " 'job_title=bid_manager',\n",
       " 'job_title=bid_writer',\n",
       " 'job_title=biologist',\n",
       " 'job_title=biomedical_scientist',\n",
       " 'job_title=bookkeeper',\n",
       " 'job_title=bookseller',\n",
       " 'job_title=branch_manager',\n",
       " 'job_title=brand_manager',\n",
       " 'job_title=brewer',\n",
       " 'job_title=business_analyst',\n",
       " 'job_title=business_consultant',\n",
       " 'job_title=business_development_manager',\n",
       " 'job_title=business_development_specialist',\n",
       " 'job_title=business_intelligence_analyst',\n",
       " 'job_title=business_intelligence_developer',\n",
       " 'job_title=business_manager',\n",
       " 'job_title=business_operations_manager',\n",
       " 'job_title=business_support_officer',\n",
       " 'job_title=buyer',\n",
       " 'job_title=care_assistant',\n",
       " 'job_title=career_advisor',\n",
       " 'job_title=careers_consultant',\n",
       " 'job_title=case_manager',\n",
       " 'job_title=case_worker',\n",
       " 'job_title=caseworker',\n",
       " 'job_title=ceo',\n",
       " 'job_title=cfo',\n",
       " 'job_title=change_manager',\n",
       " 'job_title=chaplain',\n",
       " 'job_title=charge_nurse',\n",
       " 'job_title=chartered_accountant',\n",
       " 'job_title=chemist',\n",
       " 'job_title=chief_marketing_officer',\n",
       " 'job_title=chief_of_staff',\n",
       " 'job_title=chief_operating_officer',\n",
       " 'job_title=chief_product_officer',\n",
       " 'job_title=chief_risk_officer',\n",
       " 'job_title=chief_technology_officer',\n",
       " 'job_title=childcare_worker',\n",
       " 'job_title=ciso',\n",
       " 'job_title=civil_engineer',\n",
       " 'job_title=civil_servant',\n",
       " 'job_title=clerical_officer',\n",
       " 'job_title=clerk',\n",
       " 'job_title=client_manager',\n",
       " 'job_title=client_relationship_manager',\n",
       " 'job_title=client_services_manager',\n",
       " 'job_title=client_support_specialist',\n",
       " 'job_title=clinical_psychologist',\n",
       " 'job_title=clinical_research_associate',\n",
       " 'job_title=clinical_social_worker',\n",
       " 'job_title=clinical_supervisor',\n",
       " 'job_title=clinician',\n",
       " 'job_title=cloud_architect',\n",
       " 'job_title=cloud_consultant',\n",
       " 'job_title=cloud_engineer',\n",
       " 'job_title=co-executive_producer',\n",
       " 'job_title=college_instructor',\n",
       " 'job_title=commercial_account_manager',\n",
       " 'job_title=communication_manager',\n",
       " 'job_title=communication_specialist',\n",
       " 'job_title=communications_&_marketing_manager',\n",
       " 'job_title=communications_advisor',\n",
       " 'job_title=communications_analyst',\n",
       " 'job_title=communications_and_marketing_manager',\n",
       " 'job_title=communications_consultant',\n",
       " 'job_title=communications_coordinator',\n",
       " 'job_title=communications_director',\n",
       " 'job_title=communications_executive',\n",
       " 'job_title=communications_manager',\n",
       " 'job_title=communications_officer',\n",
       " 'job_title=communications_specialist',\n",
       " 'job_title=community_engagement_manager',\n",
       " 'job_title=community_manager',\n",
       " 'job_title=compensation_analyst',\n",
       " 'job_title=compliance',\n",
       " 'job_title=compliance_analyst',\n",
       " 'job_title=compliance_manager',\n",
       " 'job_title=compliance_officer',\n",
       " 'job_title=conflicts_analyst',\n",
       " 'job_title=constituency_assistant',\n",
       " 'job_title=consultant',\n",
       " 'job_title=consulting_engineer',\n",
       " 'job_title=contact_tracer',\n",
       " 'job_title=content_analyst',\n",
       " 'job_title=content_designer',\n",
       " 'job_title=content_director',\n",
       " 'job_title=content_manager',\n",
       " 'job_title=content_marketer',\n",
       " 'job_title=content_marketing_manager',\n",
       " 'job_title=content_producer',\n",
       " 'job_title=content_specialist',\n",
       " 'job_title=content_strategist',\n",
       " 'job_title=content_writer',\n",
       " 'job_title=contract_administrator',\n",
       " 'job_title=contract_manager',\n",
       " 'job_title=contract_specialist',\n",
       " 'job_title=contractor',\n",
       " 'job_title=contracts_manager',\n",
       " 'job_title=contracts_specialist',\n",
       " 'job_title=controller',\n",
       " 'job_title=coo',\n",
       " 'job_title=cook',\n",
       " 'job_title=coordinator',\n",
       " 'job_title=copywriter',\n",
       " 'job_title=corporate_paralegal',\n",
       " 'job_title=counsel',\n",
       " 'job_title=country_director',\n",
       " 'job_title=court_reporter',\n",
       " 'job_title=creative_director',\n",
       " 'job_title=creative_strategist',\n",
       " 'job_title=credentialing_coordinator',\n",
       " 'job_title=credit_analyst',\n",
       " 'job_title=credit_specialist',\n",
       " 'job_title=crm_analyst',\n",
       " 'job_title=crm_manager',\n",
       " 'job_title=cto',\n",
       " 'job_title=customer_experience_manager',\n",
       " 'job_title=customer_service',\n",
       " 'job_title=customer_service_associate',\n",
       " 'job_title=customer_service_manager',\n",
       " 'job_title=customer_service_rep',\n",
       " 'job_title=customer_service_representative',\n",
       " 'job_title=customer_service_specialist',\n",
       " 'job_title=customer_solutions_manager',\n",
       " 'job_title=customer_success_manager',\n",
       " 'job_title=customer_support',\n",
       " 'job_title=customer_support_engineer',\n",
       " 'job_title=customer_support_rep',\n",
       " 'job_title=customer_support_specialist',\n",
       " 'job_title=cyber_security_consultant',\n",
       " 'job_title=cyber_security_manager',\n",
       " 'job_title=data_analyst',\n",
       " 'job_title=data_analytics_manager',\n",
       " 'job_title=data_architect',\n",
       " 'job_title=data_coordinator',\n",
       " 'job_title=data_engineer',\n",
       " 'job_title=data_manager',\n",
       " 'job_title=data_quality_manager',\n",
       " 'job_title=data_science_manager',\n",
       " 'job_title=data_scientist',\n",
       " 'job_title=data_strategist',\n",
       " 'job_title=data_visualization_consultant',\n",
       " 'job_title=database_administrator',\n",
       " 'job_title=delivery_manager',\n",
       " 'job_title=demand_planner',\n",
       " 'job_title=dentist',\n",
       " 'job_title=deputy_ceo',\n",
       " 'job_title=deputy_director',\n",
       " 'job_title=deputy_editor',\n",
       " 'job_title=design_engineer',\n",
       " 'job_title=design_lead',\n",
       " 'job_title=design_manager',\n",
       " 'job_title=developer',\n",
       " 'job_title=development_assistant',\n",
       " 'job_title=development_coordinator',\n",
       " 'job_title=development_engineer',\n",
       " 'job_title=development_manager',\n",
       " 'job_title=development_officer',\n",
       " 'job_title=development_scientist',\n",
       " 'job_title=devops_engineer',\n",
       " 'job_title=dietitian',\n",
       " 'job_title=digital_account_manager',\n",
       " 'job_title=digital_asset_manager',\n",
       " 'job_title=digital_content_editor',\n",
       " 'job_title=digital_content_manager',\n",
       " 'job_title=digital_content_producer',\n",
       " 'job_title=digital_content_specialist',\n",
       " 'job_title=digital_editor',\n",
       " 'job_title=digital_marketing_assistant',\n",
       " 'job_title=digital_marketing_manager',\n",
       " 'job_title=digital_marketing_specialist',\n",
       " 'job_title=digital_product_manager',\n",
       " 'job_title=digital_program_manager',\n",
       " 'job_title=digital_project_manager',\n",
       " 'job_title=diplomat',\n",
       " 'job_title=director',\n",
       " 'job_title=director,_clinical_operations',\n",
       " 'job_title=director,_customer_success',\n",
       " 'job_title=director,_cybersecurity',\n",
       " 'job_title=director,_development',\n",
       " 'job_title=director,_human_resources',\n",
       " 'job_title=director,_marketing',\n",
       " 'job_title=director,_operations',\n",
       " 'job_title=director_of_business_development',\n",
       " 'job_title=director_of_communication',\n",
       " 'job_title=director_of_communications',\n",
       " 'job_title=director_of_communications_and_research',\n",
       " 'job_title=director_of_content_strategy',\n",
       " 'job_title=director_of_customer_success',\n",
       " 'job_title=director_of_education',\n",
       " 'job_title=director_of_engineering',\n",
       " 'job_title=director_of_external_affairs',\n",
       " 'job_title=director_of_finance',\n",
       " 'job_title=director_of_hr',\n",
       " 'job_title=director_of_marketing',\n",
       " 'job_title=director_of_nursing',\n",
       " 'job_title=director_of_operations',\n",
       " 'job_title=director_of_people_operations',\n",
       " 'job_title=director_of_policy',\n",
       " 'job_title=dispatcher',\n",
       " 'job_title=district_manager',\n",
       " 'job_title=doctor',\n",
       " 'job_title=document_control',\n",
       " 'job_title=documentation_specialist',\n",
       " 'job_title=e-commerce_manager',\n",
       " 'job_title=ea',\n",
       " 'job_title=ea_to_ceo',\n",
       " 'job_title=early_childhood_educator',\n",
       " 'job_title=economic_analyst',\n",
       " 'job_title=economist',\n",
       " 'job_title=editor',\n",
       " 'job_title=editorial_assistant',\n",
       " 'job_title=editorial_director',\n",
       " 'job_title=education_coordinator',\n",
       " 'job_title=education_manager',\n",
       " 'job_title=electrical_engineer',\n",
       " 'job_title=email_marketing_manager',\n",
       " 'job_title=emergency_preparedness_coordinator',\n",
       " 'job_title=employment_services_specialist',\n",
       " 'job_title=energy_analyst',\n",
       " 'job_title=engagement_coordinator',\n",
       " 'job_title=engagement_manager',\n",
       " 'job_title=engineer',\n",
       " 'job_title=engineering_director',\n",
       " 'job_title=engineering_manager',\n",
       " 'job_title=engineering_specialist',\n",
       " 'job_title=engineering_supervisor',\n",
       " 'job_title=engineering_team_lead',\n",
       " 'job_title=english_as_a_second_language_teacher',\n",
       " 'job_title=english_editor',\n",
       " 'job_title=english_teacher',\n",
       " 'job_title=enrollment_coordinator',\n",
       " 'job_title=enterprise_architect',\n",
       " 'job_title=environmental_scientist',\n",
       " 'job_title=environmental_specialist',\n",
       " 'job_title=esl_teacher',\n",
       " 'job_title=esol_teacher',\n",
       " 'job_title=event_coordinator',\n",
       " 'job_title=event_manager',\n",
       " 'job_title=event_planner',\n",
       " 'job_title=events_coordinator',\n",
       " 'job_title=events_manager',\n",
       " 'job_title=exec_assistant',\n",
       " 'job_title=executive',\n",
       " 'job_title=executive_administrative_assistant',\n",
       " 'job_title=executive_assistant',\n",
       " 'job_title=executive_assistant_&_office_manager',\n",
       " 'job_title=executive_assistant_to_ceo',\n",
       " 'job_title=executive_assistant_to_the_ceo',\n",
       " 'job_title=executive_director',\n",
       " 'job_title=executive_officer',\n",
       " 'job_title=facilities_manager',\n",
       " 'job_title=facilities_project_coordinator',\n",
       " 'job_title=facility_manager',\n",
       " 'job_title=faculty',\n",
       " 'job_title=faculty_manager',\n",
       " 'job_title=fellow',\n",
       " 'job_title=field_engineer',\n",
       " 'job_title=field_manager',\n",
       " 'job_title=finance_&_hr_manager',\n",
       " 'job_title=finance_assistant',\n",
       " 'job_title=finance_business_partner',\n",
       " 'job_title=finance_director',\n",
       " 'job_title=finance_manager',\n",
       " 'job_title=finance_officer',\n",
       " 'job_title=financial_administrator',\n",
       " 'job_title=financial_analyst',\n",
       " 'job_title=financial_controller',\n",
       " 'job_title=financial_manager',\n",
       " 'job_title=financial_planner',\n",
       " 'job_title=financial_reporting_manager',\n",
       " 'job_title=forensic_accountant',\n",
       " 'job_title=forensic_scientist',\n",
       " 'job_title=fp&a',\n",
       " 'job_title=freelance_translator',\n",
       " 'job_title=freelance_writer',\n",
       " 'job_title=front-end_developer',\n",
       " 'job_title=front_end_developer',\n",
       " 'job_title=front_end_engineer',\n",
       " 'job_title=front_end_web_developer',\n",
       " 'job_title=front_office_supervisor',\n",
       " 'job_title=frontend_developer',\n",
       " 'job_title=frontend_engineer',\n",
       " 'job_title=frontend_web_developer',\n",
       " 'job_title=full_stack_developer',\n",
       " 'job_title=fundraising_manager',\n",
       " 'job_title=game_producer',\n",
       " 'job_title=general_counsel',\n",
       " 'job_title=general_manager',\n",
       " 'job_title=geologist',\n",
       " 'job_title=geospatial_analyst',\n",
       " 'job_title=gis_analyst',\n",
       " 'job_title=gis_technician',\n",
       " 'job_title=graduate_civil_engineer',\n",
       " 'job_title=graduate_student',\n",
       " 'job_title=grants_manager',\n",
       " 'job_title=graphic_design',\n",
       " 'job_title=graphic_designer',\n",
       " 'job_title=group_hr_manager',\n",
       " 'job_title=group_manager',\n",
       " 'job_title=hardware_engineer',\n",
       " 'job_title=head_of_communications',\n",
       " 'job_title=head_of_content',\n",
       " 'job_title=head_of_design',\n",
       " 'job_title=head_of_development',\n",
       " 'job_title=head_of_engineering',\n",
       " 'job_title=head_of_finance',\n",
       " 'job_title=head_of_fundraising',\n",
       " 'job_title=head_of_hr',\n",
       " 'job_title=head_of_it',\n",
       " 'job_title=head_of_marketing',\n",
       " 'job_title=head_of_operations',\n",
       " 'job_title=head_of_partnerships',\n",
       " 'job_title=head_of_product',\n",
       " 'job_title=head_of_production',\n",
       " 'job_title=head_of_school',\n",
       " 'job_title=head_of_software_engineering',\n",
       " 'job_title=head_of_strategy',\n",
       " 'job_title=helpdesk_analyst',\n",
       " 'job_title=high_school_teacher',\n",
       " 'job_title=hr',\n",
       " 'job_title=hr_administrator',\n",
       " 'job_title=hr_adviser',\n",
       " 'job_title=hr_advisor',\n",
       " 'job_title=hr_assistant',\n",
       " 'job_title=hr_associate',\n",
       " 'job_title=hr_business_partner',\n",
       " 'job_title=hr_coordinator',\n",
       " 'job_title=hr_director',\n",
       " 'job_title=hr_generalist',\n",
       " 'job_title=hr_manager',\n",
       " 'job_title=hr_representative',\n",
       " 'job_title=hrbp',\n",
       " 'job_title=human_factors_engineer',\n",
       " 'job_title=human_resources_advisor',\n",
       " 'job_title=human_resources_business_partner',\n",
       " 'job_title=human_resources_consultant',\n",
       " 'job_title=human_resources_coordinator',\n",
       " 'job_title=human_resources_manager',\n",
       " 'job_title=human_resources_specialist',\n",
       " 'job_title=illustrator',\n",
       " 'job_title=in-house_counsel',\n",
       " 'job_title=in_house_executive_recruiter',\n",
       " 'job_title=information_manager',\n",
       " 'job_title=information_systems_manager',\n",
       " 'job_title=inside_sales',\n",
       " 'job_title=instructional_designer',\n",
       " 'job_title=instructional_systems_designer',\n",
       " 'job_title=insurance_broker',\n",
       " 'job_title=intake_officer',\n",
       " 'job_title=interior_designer',\n",
       " 'job_title=intern',\n",
       " 'job_title=intern_software_developer',\n",
       " 'job_title=internal_auditor',\n",
       " 'job_title=internal_communications_manager',\n",
       " 'job_title=internal_medicine_physician',\n",
       " 'job_title=internship_coordinator',\n",
       " 'job_title=inventory_analyst',\n",
       " 'job_title=investment_banker',\n",
       " 'job_title=ios_developer',\n",
       " 'job_title=ios_engineer',\n",
       " 'job_title=it',\n",
       " 'job_title=it_admin',\n",
       " 'job_title=it_administrator',\n",
       " 'job_title=it_architect',\n",
       " 'job_title=it_consultant',\n",
       " 'job_title=it_director',\n",
       " 'job_title=it_helpdesk_assistant',\n",
       " 'job_title=it_manager',\n",
       " 'job_title=it_project_manager',\n",
       " 'job_title=it_support',\n",
       " 'job_title=it_support_engineer',\n",
       " 'job_title=it_support_specialist',\n",
       " 'job_title=it_support_technician',\n",
       " 'job_title=it_systems_analyst',\n",
       " 'job_title=it_technician',\n",
       " 'job_title=journalist',\n",
       " 'job_title=junior_architect',\n",
       " 'job_title=junior_data_scientist',\n",
       " 'job_title=junior_developer',\n",
       " 'job_title=junior_software_developer',\n",
       " 'job_title=junior_software_engineer',\n",
       " 'job_title=junior_underwriter',\n",
       " 'job_title=kindergarten_teacher',\n",
       " 'job_title=lab_supervisor',\n",
       " 'job_title=lab_technician',\n",
       " ...]"
      ]
     },
     "execution_count": 35,
     "metadata": {},
     "output_type": "execute_result"
    }
   ],
   "source": [
    "prop_val   = 0.2\n",
    "prop_test  = 0.2\n",
    "prop_train = 1.0 - prop_test - prop_val\n",
    "seed = 1\n",
    "\n",
    "df_full_train, df_test = train_test_split(df           , test_size=prop_test                          , random_state=seed)\n",
    "df_train, df_val       = train_test_split(df_full_train, test_size=prop_val / (prop_train + prop_test), random_state=seed)\n",
    "\n",
    "def setup_tensors(df):\n",
    "    df = df.reset_index(drop=True)\n",
    "    y  = np.log1p(df.renumeration.values)\n",
    "    for col in numerical_columns:\n",
    "        del df[col]\n",
    "    return df, y\n",
    "\n",
    "df_full_train, y_full_train = setup_tensors(df_full_train)\n",
    "df_train     , y_train      = setup_tensors(df_train     )\n",
    "df_val       , y_val        = setup_tensors(df_val       )\n",
    "df_test      , y_test       = setup_tensors(df_test      )\n",
    "\n",
    "dv = DictVectorizer(sparse=False)\n",
    "def transform_set(columns, df,fit=False):\n",
    "    dicts = df[columns].to_dict(orient='records')\n",
    "    if fit:\n",
    "        X = dv.fit_transform(dicts)\n",
    "    else:\n",
    "        X = dv.transform(dicts)\n",
    "    return dicts, X\n",
    "\n",
    "fit_columns = categorical_columns\n",
    "_               , _            = transform_set(fit_columns, df           , fit=True)\n",
    "dicts_full_train, X_full_train = transform_set(fit_columns, df_full_train)\n",
    "dicts_train     , X_train      = transform_set(fit_columns, df_train     )\n",
    "dicts_val       , X_val        = transform_set(fit_columns, df_val       )\n",
    "dicts_test      , X_test       = transform_set(fit_columns, df_test      )\n",
    "dv.get_feature_names()"
   ]
  },
  {
   "cell_type": "code",
   "execution_count": 69,
   "id": "16d5265f",
   "metadata": {},
   "outputs": [
    {
     "data": {
      "text/plain": [
       "{'how_old_are_you': '35-44',\n",
       " 'industry': 'government_and_public_administration',\n",
       " 'job_title': 'admin',\n",
       " 'country': 'germany',\n",
       " 'city': 'göttingen',\n",
       " 'overall_years_of_professional_experience': '1_year_or_less',\n",
       " 'years_of_experience_in_field': '1_year_or_less',\n",
       " 'highest_level_of_education_completed': \"master's_degree\",\n",
       " 'gender': 'woman'}"
      ]
     },
     "execution_count": 69,
     "metadata": {},
     "output_type": "execute_result"
    }
   ],
   "source": [
    "dicts_full_train[10]"
   ]
  },
  {
   "cell_type": "markdown",
   "id": "a6184db0",
   "metadata": {},
   "source": [
    "We can look at the most important differentiating class by performing a stump fit"
   ]
  },
  {
   "cell_type": "code",
   "execution_count": 36,
   "id": "9bdc6dd1",
   "metadata": {
    "scrolled": true
   },
   "outputs": [
    {
     "name": "stdout",
     "output_type": "stream",
     "text": [
      "|--- years_of_experience_in_field=2_-_4_years <= 0.50\n",
      "|   |--- value: [11.13]\n",
      "|--- years_of_experience_in_field=2_-_4_years >  0.50\n",
      "|   |--- value: [10.79]\n",
      "\n"
     ]
    }
   ],
   "source": [
    "dtr = DecisionTreeRegressor(max_depth=1)\n",
    "dtr.fit(X_train, y_train)\n",
    "\n",
    "print(export_text(dtr, feature_names=dv.get_feature_names()))"
   ]
  },
  {
   "cell_type": "markdown",
   "id": "1ed869c1",
   "metadata": {},
   "source": [
    "## Tune Random Forrest"
   ]
  },
  {
   "cell_type": "code",
   "execution_count": 37,
   "id": "21bacff1",
   "metadata": {},
   "outputs": [],
   "source": [
    "def perform_random_forest_regressor(X,y,n_estimators=10, max_depth=None, random_state=1, n_jobs=-1):\n",
    "    rfr = RandomForestRegressor(n_estimators=n_estimators, max_depth=max_depth, random_state=random_state, n_jobs=n_jobs)\n",
    "    rfr.fit(X, y)\n",
    "    return rfr\n",
    "\n",
    "def rmse(y, y_pred):\n",
    "    se = (y - y_pred) ** 2\n",
    "    mse = se.mean()\n",
    "    return np.sqrt(mse)\n",
    "\n",
    "def calc_random_forest_regressor_error(X,y,X_t,y_t,**kwargs):\n",
    "    rfr = perform_random_forest_regressor(X,y,**kwargs)\n",
    "    y_pred = rfr.predict(X_t)\n",
    "    return rmse(y_t,y_pred).round(3)"
   ]
  },
  {
   "cell_type": "code",
   "execution_count": 53,
   "id": "1f807faf",
   "metadata": {},
   "outputs": [
    {
     "name": "stdout",
     "output_type": "stream",
     "text": [
      "5\n",
      "10\n",
      "20\n",
      "30\n",
      "40\n",
      "50\n",
      "60\n",
      "70\n",
      "80\n",
      "90\n",
      "100\n",
      "110\n",
      "120\n",
      "130\n",
      "140\n",
      "150\n",
      "10\n",
      "10\n",
      "20\n",
      "30\n",
      "40\n",
      "50\n",
      "60\n",
      "70\n",
      "80\n",
      "90\n",
      "100\n",
      "110\n",
      "120\n",
      "130\n",
      "140\n",
      "150\n",
      "15\n",
      "10\n",
      "20\n",
      "30\n",
      "40\n",
      "50\n",
      "60\n",
      "70\n",
      "80\n",
      "90\n",
      "100\n",
      "110\n",
      "120\n",
      "130\n",
      "140\n",
      "150\n",
      "20\n",
      "10\n",
      "20\n",
      "30\n",
      "40\n",
      "50\n",
      "60\n",
      "70\n",
      "80\n",
      "90\n",
      "100\n",
      "110\n",
      "120\n",
      "130\n",
      "140\n",
      "150\n",
      "25\n",
      "10\n",
      "20\n",
      "30\n",
      "40\n",
      "50\n",
      "60\n",
      "70\n",
      "80\n",
      "90\n",
      "100\n",
      "110\n",
      "120\n",
      "130\n",
      "140\n",
      "150\n"
     ]
    }
   ],
   "source": [
    "errors = []\n",
    "for max_depth in [5,10,15,20,25]:\n",
    "    print(max_depth)\n",
    "    for n_estimator in range(10,151,10): #Slightly smaller than 200 due to slower computer\n",
    "        print(n_estimator)\n",
    "        error = calc_random_forest_regressor_error(X_train,y_train,X_val,y_val,n_estimators=n_estimator,max_depth=max_depth)\n",
    "        errors.append({'n_estimator':n_estimator,'max_depth':max_depth, 'rmse':error})\n",
    "df_errors = pd.DataFrame(errors)"
   ]
  },
  {
   "cell_type": "code",
   "execution_count": 54,
   "id": "af703640",
   "metadata": {},
   "outputs": [
    {
     "data": {
      "text/plain": [
       "<matplotlib.legend.Legend at 0x7fb54adaa4c0>"
      ]
     },
     "execution_count": 54,
     "metadata": {},
     "output_type": "execute_result"
    },
    {
     "data": {
      "image/png": "[encoded data removed]",
      "text/plain": [
       "<Figure size 432x288 with 1 Axes>"
      ]
     },
     "metadata": {
      "needs_background": "light"
     },
     "output_type": "display_data"
    }
   ],
   "source": [
    "for max_depth in df_errors.max_depth.unique():\n",
    "    df_subset = df_errors[df_errors.max_depth == max_depth]\n",
    "    plt.plot( df_subset.n_estimator, df_subset.rmse, label='max_depth={}'.format(max_depth) )\n",
    "plt.legend()"
   ]
  },
  {
   "cell_type": "code",
   "execution_count": 56,
   "id": "5d616bfa",
   "metadata": {},
   "outputs": [
    {
     "data": {
      "text/html": [
       "<div>\n",
       "<style scoped>\n",
       "    .dataframe tbody tr th:only-of-type {\n",
       "        vertical-align: middle;\n",
       "    }\n",
       "\n",
       "    .dataframe tbody tr th {\n",
       "        vertical-align: top;\n",
       "    }\n",
       "\n",
       "    .dataframe thead th {\n",
       "        text-align: right;\n",
       "    }\n",
       "</style>\n",
       "<table border=\"1\" class=\"dataframe\">\n",
       "  <thead>\n",
       "    <tr style=\"text-align: right;\">\n",
       "      <th></th>\n",
       "      <th>feature_name</th>\n",
       "      <th>importance</th>\n",
       "    </tr>\n",
       "  </thead>\n",
       "  <tbody>\n",
       "    <tr>\n",
       "      <th>0</th>\n",
       "      <td>job_title=technician</td>\n",
       "      <td>0.039307</td>\n",
       "    </tr>\n",
       "    <tr>\n",
       "      <th>1</th>\n",
       "      <td>industry=computing_or_tech</td>\n",
       "      <td>0.037884</td>\n",
       "    </tr>\n",
       "    <tr>\n",
       "      <th>2</th>\n",
       "      <td>years_of_experience_in_field=2_-_4_years</td>\n",
       "      <td>0.037282</td>\n",
       "    </tr>\n",
       "    <tr>\n",
       "      <th>3</th>\n",
       "      <td>job_title=academic_librarian</td>\n",
       "      <td>0.037043</td>\n",
       "    </tr>\n",
       "    <tr>\n",
       "      <th>4</th>\n",
       "      <td>job_title=fp&amp;a</td>\n",
       "      <td>0.034064</td>\n",
       "    </tr>\n",
       "    <tr>\n",
       "      <th>5</th>\n",
       "      <td>job_title=data_manager</td>\n",
       "      <td>0.031926</td>\n",
       "    </tr>\n",
       "    <tr>\n",
       "      <th>6</th>\n",
       "      <td>job_title=security_analyst</td>\n",
       "      <td>0.028325</td>\n",
       "    </tr>\n",
       "    <tr>\n",
       "      <th>7</th>\n",
       "      <td>job_title=singular_job_title</td>\n",
       "      <td>0.022805</td>\n",
       "    </tr>\n",
       "    <tr>\n",
       "      <th>8</th>\n",
       "      <td>years_of_experience_in_field=11_-_20_years</td>\n",
       "      <td>0.020906</td>\n",
       "    </tr>\n",
       "    <tr>\n",
       "      <th>9</th>\n",
       "      <td>industry=engineering_or_manufacturing</td>\n",
       "      <td>0.020209</td>\n",
       "    </tr>\n",
       "  </tbody>\n",
       "</table>\n",
       "</div>"
      ],
      "text/plain": [
       "                                 feature_name  importance\n",
       "0                        job_title=technician    0.039307\n",
       "1                  industry=computing_or_tech    0.037884\n",
       "2    years_of_experience_in_field=2_-_4_years    0.037282\n",
       "3                job_title=academic_librarian    0.037043\n",
       "4                              job_title=fp&a    0.034064\n",
       "5                      job_title=data_manager    0.031926\n",
       "6                  job_title=security_analyst    0.028325\n",
       "7                job_title=singular_job_title    0.022805\n",
       "8  years_of_experience_in_field=11_-_20_years    0.020906\n",
       "9       industry=engineering_or_manufacturing    0.020209"
      ]
     },
     "execution_count": 56,
     "metadata": {},
     "output_type": "execute_result"
    }
   ],
   "source": [
    "max_depth_best = 25\n",
    "n_estimator_best = 40 \n",
    "\n",
    "rfr = perform_random_forest_regressor(X_train,y_train,n_estimators=n_estimator_best,max_depth=max_depth_best)\n",
    "importance = pd.DataFrame(list(zip(dv.get_feature_names(),rfr.feature_importances_)),columns=['feature_name','importance'])\n",
    "importance.sort_values('importance',ascending=False).reset_index(drop=True).head(n=10)"
   ]
  },
  {
   "cell_type": "markdown",
   "id": "4c3c4c80",
   "metadata": {},
   "source": [
    "This matches our test with the stump tree we constructed and is consistent with the mutual information tests we did earlier."
   ]
  },
  {
   "cell_type": "code",
   "execution_count": 57,
   "id": "1faf8359",
   "metadata": {},
   "outputs": [
    {
     "data": {
      "text/plain": [
       "0.483"
      ]
     },
     "execution_count": 57,
     "metadata": {},
     "output_type": "execute_result"
    }
   ],
   "source": [
    "y_pred = rfr.predict(X_val)\n",
    "rmse(y_val,y_pred).round(3)"
   ]
  },
  {
   "cell_type": "code",
   "execution_count": 58,
   "id": "10eb092f",
   "metadata": {},
   "outputs": [
    {
     "data": {
      "text/plain": [
       "<AxesSubplot:ylabel='Count'>"
      ]
     },
     "execution_count": 58,
     "metadata": {},
     "output_type": "execute_result"
    },
    {
     "data": {
      "image/png": "[encoded data removed]",
      "text/plain": [
       "<Figure size 432x288 with 1 Axes>"
      ]
     },
     "metadata": {
      "needs_background": "light"
     },
     "output_type": "display_data"
    }
   ],
   "source": [
    "sns.histplot(y_pred,color='blue',alpha=0.5,bins=100)\n",
    "sns.histplot(y_val ,color='red' ,alpha=0.5,bins=100)"
   ]
  },
  {
   "cell_type": "markdown",
   "id": "5ab01bd8",
   "metadata": {},
   "source": [
    "## Tune XGBoost"
   ]
  },
  {
   "cell_type": "code",
   "execution_count": 59,
   "id": "b8c04536",
   "metadata": {},
   "outputs": [
    {
     "data": {
      "text/plain": [
       "{'max_depth': 25,\n",
       " 'min_child_weight': 1,\n",
       " 'objective': 'reg:squarederror',\n",
       " 'nthread': 2,\n",
       " 'seed': 1,\n",
       " 'verbosity': 1}"
      ]
     },
     "execution_count": 59,
     "metadata": {},
     "output_type": "execute_result"
    }
   ],
   "source": [
    "features = dv.get_feature_names()\n",
    "dtrain   = xgb.DMatrix(X_train, label=y_train, feature_names=features)\n",
    "dval     = xgb.DMatrix(X_val  , label=y_val  , feature_names=features)\n",
    "\n",
    "watchlist = [(dtrain, 'train'), (dval, 'val')]\n",
    "\n",
    "xgb_params = { 'max_depth':max_depth_best, 'min_child_weight':1, 'objective':'reg:squarederror', 'nthread':2, 'seed':1, 'verbosity':1 }\n",
    "\n",
    "def train_xgb(eta):\n",
    "    xgb_params['eta'] = eta\n",
    "    model = xgb.train(xgb_params, dtrain, num_boost_round=100,verbose_eval=5,evals=watchlist)\n",
    "    return model\n",
    "\n",
    "xgb_params"
   ]
  },
  {
   "cell_type": "code",
   "execution_count": 60,
   "id": "d3084776",
   "metadata": {},
   "outputs": [
    {
     "ename": "KeyboardInterrupt",
     "evalue": "",
     "output_type": "error",
     "traceback": [
      "\u001b[0;31m---------------------------------------------------------------------------\u001b[0m",
      "\u001b[0;31mKeyboardInterrupt\u001b[0m                         Traceback (most recent call last)",
      "\u001b[0;32m/var/folders/ks/w_gw7dpd45xfmd1xm4cbg94r0000gn/T/ipykernel_11659/1570601168.py\u001b[0m in \u001b[0;36m<module>\u001b[0;34m\u001b[0m\n\u001b[1;32m      1\u001b[0m \u001b[0;32mfor\u001b[0m \u001b[0meta\u001b[0m \u001b[0;32min\u001b[0m \u001b[0;34m[\u001b[0m\u001b[0;36m0.3\u001b[0m\u001b[0;34m,\u001b[0m\u001b[0;36m0.2\u001b[0m\u001b[0;34m,\u001b[0m\u001b[0;36m0.1\u001b[0m\u001b[0;34m,\u001b[0m\u001b[0;36m0.075\u001b[0m\u001b[0;34m]\u001b[0m\u001b[0;34m:\u001b[0m\u001b[0;34m\u001b[0m\u001b[0;34m\u001b[0m\u001b[0m\n\u001b[1;32m      2\u001b[0m     \u001b[0mprint\u001b[0m\u001b[0;34m(\u001b[0m\u001b[0;34m'eta:{}'\u001b[0m\u001b[0;34m.\u001b[0m\u001b[0mformat\u001b[0m\u001b[0;34m(\u001b[0m\u001b[0meta\u001b[0m\u001b[0;34m)\u001b[0m\u001b[0;34m)\u001b[0m\u001b[0;34m\u001b[0m\u001b[0;34m\u001b[0m\u001b[0m\n\u001b[0;32m----> 3\u001b[0;31m     \u001b[0mtrain_xgb\u001b[0m\u001b[0;34m(\u001b[0m\u001b[0meta\u001b[0m\u001b[0;34m)\u001b[0m\u001b[0;34m\u001b[0m\u001b[0;34m\u001b[0m\u001b[0m\n\u001b[0m",
      "\u001b[0;32m/var/folders/ks/w_gw7dpd45xfmd1xm4cbg94r0000gn/T/ipykernel_11659/2002719024.py\u001b[0m in \u001b[0;36mtrain_xgb\u001b[0;34m(eta)\u001b[0m\n\u001b[1;32m      9\u001b[0m \u001b[0;32mdef\u001b[0m \u001b[0mtrain_xgb\u001b[0m\u001b[0;34m(\u001b[0m\u001b[0meta\u001b[0m\u001b[0;34m)\u001b[0m\u001b[0;34m:\u001b[0m\u001b[0;34m\u001b[0m\u001b[0;34m\u001b[0m\u001b[0m\n\u001b[1;32m     10\u001b[0m     \u001b[0mxgb_params\u001b[0m\u001b[0;34m[\u001b[0m\u001b[0;34m'eta'\u001b[0m\u001b[0;34m]\u001b[0m \u001b[0;34m=\u001b[0m \u001b[0meta\u001b[0m\u001b[0;34m\u001b[0m\u001b[0;34m\u001b[0m\u001b[0m\n\u001b[0;32m---> 11\u001b[0;31m     \u001b[0mmodel\u001b[0m \u001b[0;34m=\u001b[0m \u001b[0mxgb\u001b[0m\u001b[0;34m.\u001b[0m\u001b[0mtrain\u001b[0m\u001b[0;34m(\u001b[0m\u001b[0mxgb_params\u001b[0m\u001b[0;34m,\u001b[0m \u001b[0mdtrain\u001b[0m\u001b[0;34m,\u001b[0m \u001b[0mnum_boost_round\u001b[0m\u001b[0;34m=\u001b[0m\u001b[0;36m100\u001b[0m\u001b[0;34m,\u001b[0m\u001b[0mverbose_eval\u001b[0m\u001b[0;34m=\u001b[0m\u001b[0;36m5\u001b[0m\u001b[0;34m,\u001b[0m\u001b[0mevals\u001b[0m\u001b[0;34m=\u001b[0m\u001b[0mwatchlist\u001b[0m\u001b[0;34m)\u001b[0m\u001b[0;34m\u001b[0m\u001b[0;34m\u001b[0m\u001b[0m\n\u001b[0m\u001b[1;32m     12\u001b[0m     \u001b[0;32mreturn\u001b[0m \u001b[0mmodel\u001b[0m\u001b[0;34m\u001b[0m\u001b[0;34m\u001b[0m\u001b[0m\n\u001b[1;32m     13\u001b[0m \u001b[0;34m\u001b[0m\u001b[0m\n",
      "\u001b[0;32m~/Library/r-miniconda/envs/ml-zoomcamp/lib/python3.8/site-packages/xgboost/training.py\u001b[0m in \u001b[0;36mtrain\u001b[0;34m(params, dtrain, num_boost_round, evals, obj, feval, maximize, early_stopping_rounds, evals_result, verbose_eval, xgb_model, callbacks)\u001b[0m\n\u001b[1;32m    187\u001b[0m     \u001b[0mBooster\u001b[0m \u001b[0;34m:\u001b[0m \u001b[0ma\u001b[0m \u001b[0mtrained\u001b[0m \u001b[0mbooster\u001b[0m \u001b[0mmodel\u001b[0m\u001b[0;34m\u001b[0m\u001b[0;34m\u001b[0m\u001b[0m\n\u001b[1;32m    188\u001b[0m     \"\"\"\n\u001b[0;32m--> 189\u001b[0;31m     bst = _train_internal(params, dtrain,\n\u001b[0m\u001b[1;32m    190\u001b[0m                           \u001b[0mnum_boost_round\u001b[0m\u001b[0;34m=\u001b[0m\u001b[0mnum_boost_round\u001b[0m\u001b[0;34m,\u001b[0m\u001b[0;34m\u001b[0m\u001b[0;34m\u001b[0m\u001b[0m\n\u001b[1;32m    191\u001b[0m                           \u001b[0mevals\u001b[0m\u001b[0;34m=\u001b[0m\u001b[0mevals\u001b[0m\u001b[0;34m,\u001b[0m\u001b[0;34m\u001b[0m\u001b[0;34m\u001b[0m\u001b[0m\n",
      "\u001b[0;32m~/Library/r-miniconda/envs/ml-zoomcamp/lib/python3.8/site-packages/xgboost/training.py\u001b[0m in \u001b[0;36m_train_internal\u001b[0;34m(params, dtrain, num_boost_round, evals, obj, feval, xgb_model, callbacks, evals_result, maximize, verbose_eval, early_stopping_rounds)\u001b[0m\n\u001b[1;32m     79\u001b[0m         \u001b[0;32mif\u001b[0m \u001b[0mcallbacks\u001b[0m\u001b[0;34m.\u001b[0m\u001b[0mbefore_iteration\u001b[0m\u001b[0;34m(\u001b[0m\u001b[0mbst\u001b[0m\u001b[0;34m,\u001b[0m \u001b[0mi\u001b[0m\u001b[0;34m,\u001b[0m \u001b[0mdtrain\u001b[0m\u001b[0;34m,\u001b[0m \u001b[0mevals\u001b[0m\u001b[0;34m)\u001b[0m\u001b[0;34m:\u001b[0m\u001b[0;34m\u001b[0m\u001b[0;34m\u001b[0m\u001b[0m\n\u001b[1;32m     80\u001b[0m             \u001b[0;32mbreak\u001b[0m\u001b[0;34m\u001b[0m\u001b[0;34m\u001b[0m\u001b[0m\n\u001b[0;32m---> 81\u001b[0;31m         \u001b[0mbst\u001b[0m\u001b[0;34m.\u001b[0m\u001b[0mupdate\u001b[0m\u001b[0;34m(\u001b[0m\u001b[0mdtrain\u001b[0m\u001b[0;34m,\u001b[0m \u001b[0mi\u001b[0m\u001b[0;34m,\u001b[0m \u001b[0mobj\u001b[0m\u001b[0;34m)\u001b[0m\u001b[0;34m\u001b[0m\u001b[0;34m\u001b[0m\u001b[0m\n\u001b[0m\u001b[1;32m     82\u001b[0m         \u001b[0;32mif\u001b[0m \u001b[0mcallbacks\u001b[0m\u001b[0;34m.\u001b[0m\u001b[0mafter_iteration\u001b[0m\u001b[0;34m(\u001b[0m\u001b[0mbst\u001b[0m\u001b[0;34m,\u001b[0m \u001b[0mi\u001b[0m\u001b[0;34m,\u001b[0m \u001b[0mdtrain\u001b[0m\u001b[0;34m,\u001b[0m \u001b[0mevals\u001b[0m\u001b[0;34m)\u001b[0m\u001b[0;34m:\u001b[0m\u001b[0;34m\u001b[0m\u001b[0;34m\u001b[0m\u001b[0m\n\u001b[1;32m     83\u001b[0m             \u001b[0;32mbreak\u001b[0m\u001b[0;34m\u001b[0m\u001b[0;34m\u001b[0m\u001b[0m\n",
      "\u001b[0;32m~/Library/r-miniconda/envs/ml-zoomcamp/lib/python3.8/site-packages/xgboost/core.py\u001b[0m in \u001b[0;36mupdate\u001b[0;34m(self, dtrain, iteration, fobj)\u001b[0m\n\u001b[1;32m   1497\u001b[0m \u001b[0;34m\u001b[0m\u001b[0m\n\u001b[1;32m   1498\u001b[0m         \u001b[0;32mif\u001b[0m \u001b[0mfobj\u001b[0m \u001b[0;32mis\u001b[0m \u001b[0;32mNone\u001b[0m\u001b[0;34m:\u001b[0m\u001b[0;34m\u001b[0m\u001b[0;34m\u001b[0m\u001b[0m\n\u001b[0;32m-> 1499\u001b[0;31m             _check_call(_LIB.XGBoosterUpdateOneIter(self.handle,\n\u001b[0m\u001b[1;32m   1500\u001b[0m                                                     \u001b[0mctypes\u001b[0m\u001b[0;34m.\u001b[0m\u001b[0mc_int\u001b[0m\u001b[0;34m(\u001b[0m\u001b[0miteration\u001b[0m\u001b[0;34m)\u001b[0m\u001b[0;34m,\u001b[0m\u001b[0;34m\u001b[0m\u001b[0;34m\u001b[0m\u001b[0m\n\u001b[1;32m   1501\u001b[0m                                                     dtrain.handle))\n",
      "\u001b[0;31mKeyboardInterrupt\u001b[0m: "
     ]
    }
   ],
   "source": [
    "%%capture output\n",
    "\n",
    "for eta in [0.3,0.2,0.1,0.075]:\n",
    "    print('eta:{}'.format(eta))\n",
    "    train_xgb(eta)"
   ]
  },
  {
   "cell_type": "code",
   "execution_count": 45,
   "id": "b58dca3f",
   "metadata": {},
   "outputs": [],
   "source": [
    "s = output.stdout\n",
    "# Create an iterator of program runs\n",
    "def eta_iterator(s):\n",
    "    lines = filter(lambda x: len(x),s.split('\\n'))\n",
    "    output_iter = (x[1] for x in groupby(lines, lambda line: line.startswith('eta')))\n",
    "    for eta_header in output_iter:\n",
    "        eta = float(eta_header.__next__().strip('eta:'))\n",
    "        def _extract_line(line):\n",
    "            it, train_rmse, val_rmse = line.split('\\t')\n",
    "            return { 'eta':eta\n",
    "                   , 'it':it.strip('[]')\n",
    "                   , 'train_rmse':float(train_rmse.split(':')[1])\n",
    "                   , 'val_rmse':float(val_rmse.split(':')[1]) }\n",
    "        yield( pd.DataFrame([ _extract_line(a) for a in output_iter.__next__()]) )\n",
    "df_xgb = pd.concat(eta_iterator(s))"
   ]
  },
  {
   "cell_type": "code",
   "execution_count": 61,
   "id": "7a014921",
   "metadata": {},
   "outputs": [
    {
     "data": {
      "image/png": "[encoded data removed]",
      "text/plain": [
       "<Figure size 432x288 with 1 Axes>"
      ]
     },
     "metadata": {
      "needs_background": "light"
     },
     "output_type": "display_data"
    }
   ],
   "source": [
    "for eta in df_xgb.eta.unique():\n",
    "    df_subset = df_xgb[df_xgb.eta == eta]\n",
    "    plt.plot(df_subset.it,df_subset.val_rmse,label='eta={}'.format(eta))\n",
    "plt.legend()\n",
    "plt.xlim(2,15)\n",
    "eta_best = 0.2"
   ]
  },
  {
   "cell_type": "code",
   "execution_count": 62,
   "id": "ca5e98ac",
   "metadata": {},
   "outputs": [
    {
     "name": "stdout",
     "output_type": "stream",
     "text": [
      "[0]\ttrain-rmse:8.46451\tval-rmse:8.44520\n",
      "[5]\ttrain-rmse:2.83665\tval-rmse:2.80367\n",
      "[10]\ttrain-rmse:1.02449\tval-rmse:1.02386\n",
      "[15]\ttrain-rmse:0.44081\tval-rmse:0.55883\n",
      "[20]\ttrain-rmse:0.25495\tval-rmse:0.48578\n",
      "[25]\ttrain-rmse:0.19541\tval-rmse:0.47797\n",
      "[30]\ttrain-rmse:0.17064\tval-rmse:0.47961\n",
      "[35]\ttrain-rmse:0.15423\tval-rmse:0.47958\n",
      "[40]\ttrain-rmse:0.14867\tval-rmse:0.48035\n",
      "[45]\ttrain-rmse:0.13542\tval-rmse:0.48189\n",
      "[50]\ttrain-rmse:0.12908\tval-rmse:0.48126\n",
      "[55]\ttrain-rmse:0.12453\tval-rmse:0.48098\n",
      "[60]\ttrain-rmse:0.12176\tval-rmse:0.48079\n",
      "[65]\ttrain-rmse:0.11330\tval-rmse:0.48159\n",
      "[70]\ttrain-rmse:0.11136\tval-rmse:0.48144\n",
      "[75]\ttrain-rmse:0.10580\tval-rmse:0.48112\n",
      "[80]\ttrain-rmse:0.10068\tval-rmse:0.48122\n",
      "[85]\ttrain-rmse:0.09841\tval-rmse:0.48113\n",
      "[90]\ttrain-rmse:0.09717\tval-rmse:0.48130\n",
      "[95]\ttrain-rmse:0.09541\tval-rmse:0.48139\n",
      "[99]\ttrain-rmse:0.09310\tval-rmse:0.48145\n"
     ]
    }
   ],
   "source": [
    "xgboost_best = train_xgb(eta_best)"
   ]
  },
  {
   "cell_type": "code",
   "execution_count": 63,
   "id": "574deacb",
   "metadata": {},
   "outputs": [
    {
     "data": {
      "text/plain": [
       "0.481"
      ]
     },
     "execution_count": 63,
     "metadata": {},
     "output_type": "execute_result"
    }
   ],
   "source": [
    "y_pred = xgboost_best.predict(dval)\n",
    "rmse(y_val,y_pred).round(3)"
   ]
  },
  {
   "cell_type": "code",
   "execution_count": 64,
   "id": "9b4c7e6d",
   "metadata": {},
   "outputs": [
    {
     "data": {
      "text/plain": [
       "<AxesSubplot:ylabel='Count'>"
      ]
     },
     "execution_count": 64,
     "metadata": {},
     "output_type": "execute_result"
    },
    {
     "data": {
      "image/png": "[encoded data removed]",
      "text/plain": [
       "<Figure size 432x288 with 1 Axes>"
      ]
     },
     "metadata": {
      "needs_background": "light"
     },
     "output_type": "display_data"
    }
   ],
   "source": [
    "sns.histplot(y_pred,color='blue',alpha=0.5,bins=100)\n",
    "sns.histplot(y_val ,color='red' ,alpha=0.5,bins=100)"
   ]
  },
  {
   "cell_type": "markdown",
   "id": "77384f4e",
   "metadata": {},
   "source": [
    "So our XGBoost model outperforms our random forest only slightly, so we pick XGBoost for training speed"
   ]
  },
  {
   "cell_type": "markdown",
   "id": "6376edab",
   "metadata": {},
   "source": [
    "# Tuned Model Evaluation"
   ]
  },
  {
   "cell_type": "code",
   "execution_count": 65,
   "id": "53ee7a41",
   "metadata": {},
   "outputs": [
    {
     "name": "stdout",
     "output_type": "stream",
     "text": [
      "[0]\tfull_train-rmse:8.45977\ttest-rmse:8.45265\n",
      "[5]\tfull_train-rmse:2.82819\ttest-rmse:2.86254\n",
      "[10]\tfull_train-rmse:1.01826\ttest-rmse:1.18071\n",
      "[15]\tfull_train-rmse:0.44265\ttest-rmse:0.81361\n",
      "[20]\tfull_train-rmse:0.27222\ttest-rmse:0.77990\n",
      "[25]\tfull_train-rmse:0.20683\ttest-rmse:0.77921\n",
      "[30]\tfull_train-rmse:0.18276\ttest-rmse:0.77921\n",
      "[35]\tfull_train-rmse:0.17336\ttest-rmse:0.77998\n",
      "[40]\tfull_train-rmse:0.16335\ttest-rmse:0.77998\n",
      "[45]\tfull_train-rmse:0.15689\ttest-rmse:0.78002\n",
      "[50]\tfull_train-rmse:0.15202\ttest-rmse:0.78024\n",
      "[55]\tfull_train-rmse:0.14922\ttest-rmse:0.77997\n",
      "[60]\tfull_train-rmse:0.14685\ttest-rmse:0.77960\n",
      "[65]\tfull_train-rmse:0.14351\ttest-rmse:0.77940\n",
      "[70]\tfull_train-rmse:0.14007\ttest-rmse:0.78027\n",
      "[75]\tfull_train-rmse:0.13824\ttest-rmse:0.78039\n",
      "[80]\tfull_train-rmse:0.13580\ttest-rmse:0.78044\n",
      "[85]\tfull_train-rmse:0.13429\ttest-rmse:0.77999\n",
      "[90]\tfull_train-rmse:0.12502\ttest-rmse:0.78000\n",
      "[95]\tfull_train-rmse:0.12234\ttest-rmse:0.78006\n",
      "[99]\tfull_train-rmse:0.12037\ttest-rmse:0.78065\n"
     ]
    }
   ],
   "source": [
    "dtrain_full = xgb.DMatrix(X_full_train, label=y_full_train, feature_names=features)\n",
    "dtest       = xgb.DMatrix(X_test      , label=y_test      , feature_names=features)\n",
    "\n",
    "watchlist = [(dtrain_full, 'full_train'), (dtest, 'test')]\n",
    "\n",
    "xgb_params = { 'max_depth':max_depth_best, 'min_child_weight':1, 'objective':'reg:squarederror', 'nthread':2, 'seed':1, 'verbosity':1 }\n",
    "\n",
    "def train_xgb(eta):\n",
    "    xgb_params['eta'] = eta\n",
    "    model = xgb.train(xgb_params, dtrain_full, num_boost_round=100,verbose_eval=5,evals=watchlist)\n",
    "    return model\n",
    "\n",
    "xgboost_full_train = train_xgb(eta_best)"
   ]
  },
  {
   "cell_type": "markdown",
   "id": "bab55ca2",
   "metadata": {},
   "source": [
    "Even though we are training on more data, and we picked this model because the error was low on the validation data set, it is worse on the test data set. This means we have a very uncertain model, with not enough training information."
   ]
  },
  {
   "cell_type": "code",
   "execution_count": 66,
   "id": "bf6127ab",
   "metadata": {},
   "outputs": [
    {
     "data": {
      "text/plain": [
       "0.806"
      ]
     },
     "execution_count": 66,
     "metadata": {},
     "output_type": "execute_result"
    }
   ],
   "source": [
    "y_pred = xgboost_best.predict(dtest)\n",
    "rmse(y_test,y_pred).round(3)"
   ]
  },
  {
   "cell_type": "code",
   "execution_count": 67,
   "id": "1c107ed2",
   "metadata": {},
   "outputs": [
    {
     "data": {
      "text/plain": [
       "<AxesSubplot:ylabel='Count'>"
      ]
     },
     "execution_count": 67,
     "metadata": {},
     "output_type": "execute_result"
    },
    {
     "data": {
      "image/png": "[encoded data removed]",
      "text/plain": [
       "<Figure size 432x288 with 1 Axes>"
      ]
     },
     "metadata": {
      "needs_background": "light"
     },
     "output_type": "display_data"
    }
   ],
   "source": [
    "sns.histplot(y_pred,color='blue',alpha=0.5,bins=100)\n",
    "sns.histplot(y_val ,color='red' ,alpha=0.5,bins=100)"
   ]
  },
  {
   "cell_type": "markdown",
   "id": "b671ac6b",
   "metadata": {},
   "source": [
    "Visually looks like a good fit, with overfitting more controlled than on the validation set. "
   ]
  }
 ],
 "metadata": {
  "kernelspec": {
   "display_name": "Python 3 (ipykernel)",
   "language": "python",
   "name": "python3"
  },
  "language_info": {
   "codemirror_mode": {
    "name": "ipython",
    "version": 3
   },
   "file_extension": ".py",
   "mimetype": "text/x-python",
   "name": "python",
   "nbconvert_exporter": "python",
   "pygments_lexer": "ipython3",
   "version": "3.8.11"
  }
 },
 "nbformat": 4,
 "nbformat_minor": 5
}
